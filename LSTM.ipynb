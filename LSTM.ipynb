{
  "nbformat": 4,
  "nbformat_minor": 0,
  "metadata": {
    "colab": {
      "name": "LSTM.ipynb",
      "provenance": [],
      "collapsed_sections": [],
      "authorship_tag": "ABX9TyPVDGfG5OiFT3MyWNxEM0Os",
      "include_colab_link": true
    },
    "kernelspec": {
      "name": "python3",
      "display_name": "Python 3"
    }
  },
  "cells": [
    {
      "cell_type": "markdown",
      "metadata": {
        "id": "view-in-github",
        "colab_type": "text"
      },
      "source": [
        "<a href=\"https://colab.research.google.com/github/BiancaStadl/ProjektarbeitML/blob/main/LSTM.ipynb\" target=\"_parent\"><img src=\"https://colab.research.google.com/assets/colab-badge.svg\" alt=\"Open In Colab\"/></a>"
      ]
    },
    {
      "cell_type": "markdown",
      "metadata": {
        "id": "r7k0zcJoyD3R"
      },
      "source": [
        "GloVe embeddings taken from:\n",
        "\n",
        "Jeffrey Pennington, Richard Socher, and Christopher D. Manning. 2014. GloVe: Global Vectors for Word Representation. [pdf] [bib]\n",
        "\n",
        "hatespeechdata taken from (https://hatespeechdata.com/): Wiegand, M., Siegel, M. and Ruppenhofer, J., 2018. Overview of the GermEval 2018 Shared Task on the Identification of Offensive Language. In: Proceedings of GermEval 2018, 14th Conference on Natural Language Processing (KONVENS 2018). Vienna, Austria: Research Gate. available on: https://github.com/uds-lsv/GermEval-2018-Data (last checked: 09.05.2021)"
      ]
    },
    {
      "cell_type": "code",
      "metadata": {
        "id": "p3xfitNdliBI"
      },
      "source": [
        "#import matplotlib.pyplot as plt -> für evtl Visualisierungen\n",
        "import os\n",
        "import re\n",
        "import shutil\n",
        "import string\n",
        "import tensorflow as tf\n",
        "import numpy as np\n",
        "from keras import losses\n",
        "from tensorflow import keras \n",
        "from keras import optimizers \n",
        "from keras import metrics \n",
        "\n",
        "#!pip install Tokenizer\n",
        "from keras.preprocessing.text import Tokenizer\n",
        "#!pip install pad_sequences\n",
        "from tensorflow.keras.preprocessing.sequence import pad_sequences\n",
        "from tensorflow.keras import layers\n",
        "from tensorflow.keras import losses\n",
        "from tensorflow.keras import preprocessing\n",
        "#from tensorflow.keras.layers.experimental.preprocessing import TextVectorization\n"
      ],
      "execution_count": 1,
      "outputs": []
    },
    {
      "cell_type": "markdown",
      "metadata": {
        "id": "JTWJQ1iga_vS"
      },
      "source": [
        "Einige Parameter für das Netz setzen.. https://becominghuman.ai/creating-your-own-neural-network-using-tensorflow-fa8ca7cc4d0e "
      ]
    },
    {
      "cell_type": "code",
      "metadata": {
        "id": "Bq08Me5la_Cc"
      },
      "source": [
        "max_length = 60"
      ],
      "execution_count": 2,
      "outputs": []
    },
    {
      "cell_type": "code",
      "metadata": {
        "id": "JVYBMvYSotTH"
      },
      "source": [
        "url = \"https://github.com/uds-lsv/GermEval-2018-Data/archive/master.zip\"\n",
        "\n",
        "dataset = tf.keras.utils.get_file(\"GermEval-2018-Data-master.zip\", url, \n",
        "                                   extract=True, cache_dir='.',\n",
        "                                    cache_subdir='')\n",
        "\n",
        "dataset_dir = os.path.join(os.path.dirname(dataset), 'GermEval-2018-Data-master')\n"
      ],
      "execution_count": 3,
      "outputs": []
    },
    {
      "cell_type": "code",
      "metadata": {
        "id": "cS14OUtfo34V"
      },
      "source": [
        "#os.listdir(dataset_dir)"
      ],
      "execution_count": 4,
      "outputs": []
    },
    {
      "cell_type": "code",
      "metadata": {
        "id": "2X429K6hpOVm"
      },
      "source": [
        "training_file = os.path.join(dataset_dir, 'germeval2018.training.txt')\n",
        "#with open(training_file) as f:\n",
        " # print(f.read())\n",
        "\n",
        "#print()\n",
        "\n",
        "testing_file = os.path.join(dataset_dir, 'germeval2018.test.txt')\n"
      ],
      "execution_count": 5,
      "outputs": []
    },
    {
      "cell_type": "code",
      "metadata": {
        "id": "iRqhP_Fx0cK3"
      },
      "source": [
        "def remove_clutter(string):\n",
        "   string = re.sub(\"@[^\\s]+\",\" \",string)\n",
        "   string = re.sub(\"#[^\\s]+\",\" \", string)\n",
        "   string = re.sub(\"\\u00a9\",\" \", string)\n",
        "   string = re.sub(\"\\u00ae\",\" \", string)\n",
        "   string = re.sub(\"[\\u2000-\\u3300]\",\" \", string)\n",
        "   string = re.sub(\"\\ud83c[\\ud000-\\udfff]\",\" \", string)\n",
        "   string = re.sub(\"\\ud83d[\\ud000-\\udfff]\",\" \", string)\n",
        "   string = re.sub(\"\\ud83e[\\ud000-\\udfff]\",\" \", string)\n",
        "   string = re.sub(\"😜\", \" \",string)\n",
        "   string = re.sub(\"🍫\", \" \",string)\n",
        "   string = re.sub(\"😁\", \" \",string)\n",
        "   string = re.sub(\"🐖\", \" \",string)\n",
        "   string = re.sub(\"😡\", \" \",string)\n",
        "   string = re.sub(\"😇\", \" \",string)\n",
        "   string = re.sub(\"😬\", \" \",string)\n",
        "   string = re.sub(\"😃\", \" \",string)\n",
        "   string = re.sub(\"😂\", \" \",string)\n",
        "   string = re.sub(\"💙\", \" \",string)  \n",
        "   string = re.sub(\"😛\", \" \",string)\n",
        "   string = re.sub(\"🙏\", \" \",string)\n",
        "   string = re.sub(\"👍\", \" \",string)\n",
        "   string = re.sub(\"🖕\", \" \",string)\n",
        "   string = re.sub(\"😉\", \" \",string)\n",
        "   string = re.sub(\"💩\", \" \",string)\n",
        "   string = re.sub(\"🤢\", \" \",string)\n",
        "   string = re.sub(\"👏\", \" \",string)\n",
        "   string = re.sub(\"😨\", \" \",string)\n",
        "   string = re.sub(\"🤣\", \" \",string)\n",
        "   string = re.sub(\"🤡\", \" \",string)\n",
        "   string = re.sub(\"😈\", \" \",string)\n",
        "   string = re.sub(\"💃🏽\", \" \",string)\n",
        "   string = re.sub(\"👹\", \" \",string)\n",
        "   string = re.sub(\"🤘\", \" \",string)\n",
        "   string = re.sub(\"😱\", \" \",string)\n",
        "   string = re.sub(\"🤔\", \" \",string) \n",
        "   string = re.sub(\"🌈\", \" \",string) \n",
        "   string = re.sub(\"💕\", \" \",string) \n",
        "   string = re.sub(\"👩‍❤️‍👩\", \" \",string) \n",
        "   string = re.sub(\"😍\", \" \",string) \n",
        "   string = re.sub(\"👆\", \" \",string) \n",
        "   string = re.sub(\"😖\", \" \",string) \n",
        "   string = re.sub(\"👇\", \" \",string) \n",
        "   string = re.sub(\"🔥\", \" \",string) \n",
        "   string = re.sub(\"😘\", \" \",string) \n",
        "   string = re.sub(\"🎉\", \" \",string) \n",
        "   string = re.sub(\"🤬\", \" \",string) \n",
        "   string = re.sub(\"👊\", \" \",string)\n",
        "   string = re.sub(\"🇩🇪\", \" \",string)  \n",
        "   string = re.sub(\"💔\", \" \",string)\n",
        "   string = re.sub(\"🙈\", \" \",string)\n",
        "   string = re.sub(\"🤯\", \" \",string)\n",
        "   string = re.sub(\"🐟\", \" \",string)\n",
        "   string = re.sub(\"🛶\", \" \",string)\n",
        "   string = re.sub(\"😊\", \" \",string)\n",
        "   string = re.sub(\"😓\", \" \",string)\n",
        "   string = re.sub(\"😳\", \" \",string)\n",
        "   string = re.sub(\"🚀\", \" \",string)\n",
        "   string = re.sub(\"👎\", \" \",string)\n",
        "   string = re.sub(\"😎\", \" \",string)\n",
        "   string = re.sub(\"🐸\", \" \",string)\n",
        "   string = re.sub(\"📈\", \" \",string)\n",
        "   string = re.sub(\"🙂\", \" \",string)\n",
        "   string = re.sub(\"😅\", \" \",string)\n",
        "   string = re.sub(\"😆\", \" \",string)\n",
        "   string = re.sub(\"🙎🏿\", \" \",string)\n",
        "   string = re.sub(\"👎🏽\", \" \",string)\n",
        "   string = re.sub(\"🤭\", \" \",string)\n",
        "   string = re.sub(\"😤\", \" \",string)\n",
        "   string = re.sub(\"😚\", \" \",string)\n",
        "   string = re.sub(\"😊\", \" \",string)\n",
        "   string = re.sub(\"😲\", \" \",string)\n",
        "   string = re.sub(\"🤮\", \" \",string)\n",
        "   string = re.sub(\"🙄\", \" \",string)\n",
        "   string = re.sub(\"🤑\", \" \",string)\n",
        "   string = re.sub(\"🎅\", \" \",string)\n",
        "   string = re.sub(\"👋\", \" \",string)\n",
        "   string = re.sub(\"💪\", \" \",string)\n",
        "   string = re.sub(\"😄\", \" \",string)\n",
        "   string = re.sub(\"🧐\", \" \",string)\n",
        "   string = re.sub(\"😠\", \" \",string)\n",
        "   string = re.sub(\"🎈\", \" \",string)\n",
        "   string = re.sub(\"🚂\", \" \",string)\n",
        "   string = re.sub(\"😊\", \" \",string)\n",
        "   string = re.sub(\"🚇\", \" \",string)\n",
        "   string = re.sub(\"🚊\", \" \",string)\n",
        "   string = re.sub(\"🤷\", \" \",string)\n",
        "   string = re.sub(\"😥\", \" \",string)\n",
        "   string = re.sub(\"🙃\", \" \",string)\n",
        "   string = re.sub(\"🔩\", \" \",string)\n",
        "   string = re.sub(\"🔧\", \" \",string)\n",
        "   string = re.sub(\"🔨\", \" \",string)\n",
        "   string = re.sub(\"🛠\", \" \",string)\n",
        "   string = re.sub(\"💓\", \" \",string)\n",
        "   string = re.sub(\"💡\", \" \",string)\n",
        "   string = re.sub(\"🍸\", \" \",string)\n",
        "   string = re.sub(\"🥃\", \" \",string)\n",
        "   string = re.sub(\"🥂\", \" \",string)\n",
        "   string = re.sub(\"😷\", \" \",string)\n",
        "   string = re.sub(\"🤐\", \" \",string)\n",
        "   string = re.sub(\"🌎\", \" \",string)\n",
        "   string = re.sub(\"👑\", \" \",string)\n",
        "   string = re.sub(\"🤛\", \" \",string)\n",
        "   string = re.sub(\"😀\", \" \",string)\n",
        "   string = re.sub(\"🛤\", \" \",string)\n",
        "   string = re.sub(\"🎄\", \" \",string)\n",
        "   string = re.sub(\"📴\", \" \",string)\n",
        "   string = re.sub(\"🌭\", \" \",string)\n",
        "   string = re.sub(\"🤕\", \" \",string)\n",
        "   string = re.sub(\"😭\", \" \",string)\n",
        "   string = re.sub(\"🍾\", \" \",string)\n",
        "   string = re.sub(\"🍞\", \" \",string)\n",
        "   string = re.sub(\"🤦\", \" \",string)\n",
        "   string = re.sub(\"🤯\", \" \",string)\n",
        "   string = re.sub(\"🕯️\", \" \",string)\n",
        "\n",
        "   string = re.sub(\"OTHER|OFFENSE|ABUSE|INSULT\",\" \",string)\n",
        "   return string"
      ],
      "execution_count": 6,
      "outputs": []
    },
    {
      "cell_type": "code",
      "metadata": {
        "id": "5asMgo4LtnRg"
      },
      "source": [
        "statementsForTraining = []\n",
        "sentimentsForTraining = []\n",
        "\n",
        "fileToRead = open(training_file, 'r')\n",
        "\n",
        "while True:\n",
        "  #next line in file\n",
        "  line = fileToRead.readline()\n",
        "\n",
        "  if line == \"\":\n",
        "   break\n",
        "\n",
        "  findSentiment = re.search(\"OTHER|OFFENSE\",line)\n",
        "\n",
        "  line = remove_clutter(line)\n",
        "      \n",
        "\n",
        "  statementsForTraining.append(line)\n",
        "\n",
        "   #sentimentsForTraining.append(findSentiment.group(0))\n",
        "\n",
        "  if findSentiment.group(0) == \"OTHER\":  \n",
        "    sentimentsForTraining.append(0)\n",
        "  else:\n",
        "    sentimentsForTraining.append(1)\n",
        "\n",
        "  if not line:\n",
        "    break\n",
        "\n",
        " #print(\"{}: {}\".format(count,line.strip()))\n",
        "  \n",
        " # print(sentiment.group(0))\n",
        " \n",
        "fileToRead.close()\n",
        "\n",
        "training_sentences = statementsForTraining\n",
        "training_labels = sentimentsForTraining\n",
        "\n",
        "#print(training_sentences[0:100])\n",
        "#print(training_labels[9])  "
      ],
      "execution_count": 7,
      "outputs": []
    },
    {
      "cell_type": "code",
      "metadata": {
        "id": "VsqZPENb98gD"
      },
      "source": [
        "\n",
        "statementsForTesting = []\n",
        "sentimentsForTesting = []\n",
        "\n",
        "fileToRead = open(testing_file, 'r')\n",
        "\n",
        "while True:\n",
        " \n",
        "  line = fileToRead.readline()\n",
        "\n",
        "  if line == \"\":\n",
        "   break\n",
        "\n",
        "  sent = re.search(\"OTHER|OFFENSE\",line)\n",
        "\n",
        "  line = remove_clutter(line)\n",
        "\n",
        "\n",
        "  statementsForTesting.append(line)\n",
        "  #print(len(line))\n",
        "  #sentimentsForTesting.append(sent.group(0))\n",
        "\n",
        "  if sent.group(0) == \"OTHER\": \n",
        "    sentimentsForTesting.append(0)\n",
        "  else:\n",
        "    sentimentsForTesting.append(1)\n",
        "\n",
        "  if not line:\n",
        "    break\n",
        "\n",
        "\n",
        "fileToRead.close()\n",
        "\n",
        "\n",
        "testing_sentences = statementsForTesting\n",
        "testing_labels = sentimentsForTesting\n",
        "#print(len(testing_sentences))\n",
        "#print(testing_sentences)   \n",
        "#print(statementsForTesting)"
      ],
      "execution_count": 8,
      "outputs": []
    },
    {
      "cell_type": "code",
      "metadata": {
        "id": "W3hFi7waTv5m"
      },
      "source": [
        "tokenizer = Tokenizer(oov_token=\"OOV\")\n",
        "tokenizer.fit_on_texts(training_sentences)\n",
        "\n",
        "word_index = tokenizer.word_index\n",
        "validation_size = 500\n",
        "\n",
        "training_sequences = tokenizer.texts_to_sequences(training_sentences)\n",
        "padded_training = pad_sequences(training_sequences, maxlen=max_length, padding='post')\n",
        "\n",
        "#print(len(padded_training))\n",
        "\n",
        "validation_sequences = padded_training[0:validation_size]\n",
        "validation_labels = training_labels[0:validation_size]\n",
        "\n",
        "padded_training = padded_training[validation_size:]\n",
        "training_labels = training_labels[validation_size:]\n",
        "\n",
        "testing_sequences = tokenizer.texts_to_sequences(testing_sentences)\n",
        "padded_testing = pad_sequences(testing_sequences, maxlen=max_length, padding='post')\n",
        "\n",
        "#print(validation_sequences[499])\n",
        "#print(padded_training[0])\n",
        "#print(len(validation_labels))\n",
        "#print(len(training_labels))\n",
        "\n",
        "\n",
        "nppadded_training = np.array(padded_training)\n",
        "nptraining_labels = np.array(training_labels)\n",
        "\n",
        "nppadded_validation = np.array(validation_sequences)\n",
        "npvalidation_labels = np.array(validation_labels)\n",
        "\n",
        "nppadded_testing = np.array(padded_testing)\n",
        "nptesting_labels = np.array(testing_labels)\n",
        "\n"
      ],
      "execution_count": 9,
      "outputs": []
    },
    {
      "cell_type": "code",
      "metadata": {
        "colab": {
          "base_uri": "https://localhost:8080/"
        },
        "id": "klOlU-WKU1sL",
        "outputId": "8036f865-7cd5-40f2-e4b2-488454f4b05e"
      },
      "source": [
        "\n",
        "#print(statementsForTraining[2])\n",
        "\n",
        "print(validation_sequences[4])\n",
        "print(statementsForTraining[4])\n",
        "#print(nppadded_training.shape)\n",
        "\n",
        "#print(nptraining_labels[4])\n",
        "#print(nppadded_testing.shape)\n",
        "\n",
        "#print(word_index) "
      ],
      "execution_count": 10,
      "outputs": [
        {
          "output_type": "stream",
          "text": [
            "[  93 5784 5785 5786   66   14 5787  849   60 5788    8    2 3624    0\n",
            "    0    0    0    0    0    0    0    0    0    0    0    0    0    0\n",
            "    0    0    0    0    0    0    0    0    0    0    0    0    0    0\n",
            "    0    0    0    0    0    0    0    0    0    0    0    0    0    0\n",
            "    0    0    0    0]\n",
            "  kein verläßlicher Verhandlungspartner. Nachkarteln nach den Sondierzngsgesprächen - schickt diese Stümper   in die Versenkung.\t \t \n",
            "\n"
          ],
          "name": "stdout"
        }
      ]
    },
    {
      "cell_type": "code",
      "metadata": {
        "colab": {
          "base_uri": "https://localhost:8080/"
        },
        "id": "Lj8KEkavjm-D",
        "outputId": "ab4e5ee9-6dae-4ba5-9099-cc4f92b2c7a5"
      },
      "source": [
        "from google.colab import drive\n",
        "drive.mount(\"/content/drive\")\n",
        "#os.listdir(\"/content/drive/MyDrive/Colab Notebooks\")"
      ],
      "execution_count": 11,
      "outputs": [
        {
          "output_type": "stream",
          "text": [
            "Drive already mounted at /content/drive; to attempt to forcibly remount, call drive.mount(\"/content/drive\", force_remount=True).\n"
          ],
          "name": "stdout"
        }
      ]
    },
    {
      "cell_type": "code",
      "metadata": {
        "colab": {
          "base_uri": "https://localhost:8080/"
        },
        "id": "YB_6sr3_jhPK",
        "outputId": "5d6ea4a6-cb7f-45e6-d548-9a40135ffce6"
      },
      "source": [
        "#Größe Vokabel -> wordindex + 2 (weil padding + OOV) \n",
        "hits = 0\n",
        "misses = 0\n",
        "\n",
        "vocabulary_size = len(word_index)+2\n",
        "\n",
        "# dann erstell ich ein Wörterbuch mit Namen \"embedding_vector\", dort sind dann\n",
        "#die keys drinnen, die in glove-Datei drinnen sind mit dem entsprechenden Key\n",
        "\n",
        "embedding_index_glove = {}\n",
        "f = open('/content/drive/MyDrive/Colab Notebooks/glove.twitter.27B.200d.txt')\n",
        "for line in f:\n",
        "  value = line.split()\n",
        "  word = value[0]\n",
        "  coef = np.asarray(value[1:],dtype='float32')\n",
        "  embedding_index_glove[word] = coef\n",
        "\n",
        "print(\"%d gefunden: \"% len(embedding_index_glove))\n",
        "\n",
        "#Dann noch eine Embedding-Matrix erstellen\n",
        "#zweiter Wert = Embedding-Dimension der Datei, in dem Fall 200\n",
        "\n",
        "glove_matrix = np.zeros((vocabulary_size,200))\n",
        "for word, index in tokenizer.word_index.items():\n",
        "    embedding_value = embedding_index_glove.get(word)\n",
        "    if embedding_value is not None:\n",
        "      glove_matrix[index] = embedding_value\n",
        "      hits+=1\n",
        "    else:\n",
        "      misses+=1\n",
        "\n",
        "print(\"hits %d and %d misses\"%(hits,misses))"
      ],
      "execution_count": 12,
      "outputs": [
        {
          "output_type": "stream",
          "text": [
            "1193514 gefunden: \n",
            "hits 6747 and 8312 misses\n"
          ],
          "name": "stdout"
        }
      ]
    },
    {
      "cell_type": "code",
      "metadata": {
        "id": "ekXQeS2rqN01"
      },
      "source": [
        "from keras.layers import Dense, Dropout, Activation\n",
        "from keras.layers import Embedding, LSTM"
      ],
      "execution_count": 13,
      "outputs": []
    },
    {
      "cell_type": "code",
      "metadata": {
        "id": "G5qYC_xx_aTK"
      },
      "source": [
        "import keras.backend as K\n",
        "\n",
        "def metrics_recall(data_true, data_pred):\n",
        "    true_positives = K.sum(K.round(K.clip(data_true*data_pred,0,1)))\n",
        "    possible_positives = K.sum(K.round(K.clip(data_true,0,1)))\n",
        "\n",
        "    recall = true_positives / (possible_positives+K.epsilon())\n",
        "    return recall\n",
        "\n",
        "\n",
        "def metrics_precision(data_true, data_pred):\n",
        "    true_positives = K.sum(K.round(K.clip(data_true*data_pred,0,1)))\n",
        "\n",
        "    positives_predicted = K.sum(K.round(K.clip(data_pred,0,1)))\n",
        "    precision = true_positives / (positives_predicted+K.epsilon())\n",
        "    return precision\n",
        "\n",
        "\n",
        "def metrics_f1(data_true, data_pred):\n",
        "    precision_data = metrics_precision(data_true, data_pred)\n",
        "    recall_data = metrics_recall(data_true, data_pred)\n",
        "    return 2*(precision_data*recall_data)/(precision_data+recall_data+K.epsilon())"
      ],
      "execution_count": 14,
      "outputs": []
    },
    {
      "cell_type": "code",
      "metadata": {
        "id": "oFwXT1wypY_B"
      },
      "source": [
        "from tensorflow.keras.layers import Embedding\n",
        "#print(len(word_index))\n",
        "LSTM16052110 = tf.keras.Sequential()\n",
        "#LSTM16052110.add(tf.keras.layers.Embedding(input_dim=15132, output_dim=100, input_length=max_length))\n",
        "LSTM16052110.add(tf.keras.layers.Embedding(vocabulary_size, output_dim=200, input_length=60, embeddings_initializer = keras.initializers.Constant(glove_matrix), trainable= False))\n",
        "#LSTM16052110.add(tf.keras.layers.Conv1D(filters=10, kernel_size=3,activation='relu'))\n",
        "#LSTM16052110.add(tf.keras.layers.MaxPooling1D())\n",
        "LSTM16052110.add(tf.keras.layers.LSTM(35, activation=\"tanh\", recurrent_activation=\"sigmoid\", use_bias=True,return_sequences=True))\n",
        "#LSTM16052110.add(tf.keras.layers.GlobalMaxPooling1D())\n",
        "LSTM16052110.add(tf.keras.layers.LSTM(35))\n",
        "LSTM16052110.add(tf.keras.layers.Dropout(0.5))\n",
        "#LSTM16052110.add(tf.keras.layers.Dense(65,activation='relu'))\n",
        "#added 070521\n",
        "LSTM16052110.add(tf.keras.layers.Dense(1, activation='sigmoid'))\n",
        "\n"
      ],
      "execution_count": 15,
      "outputs": []
    },
    {
      "cell_type": "code",
      "metadata": {
        "colab": {
          "base_uri": "https://localhost:8080/"
        },
        "id": "7IuFfu-1LeDP",
        "outputId": "1b6fd2d9-2c8d-4db7-fe5e-9c7c2f9c07ea"
      },
      "source": [
        "LSTM16052110.compile(loss='binary_crossentropy', optimizer='adam',metrics=['accuracy',metrics_recall,metrics_precision,metrics_f1])\n",
        "print(LSTM16052110.summary())"
      ],
      "execution_count": 16,
      "outputs": [
        {
          "output_type": "stream",
          "text": [
            "Model: \"sequential\"\n",
            "_________________________________________________________________\n",
            "Layer (type)                 Output Shape              Param #   \n",
            "=================================================================\n",
            "embedding (Embedding)        (None, 60, 200)           3012200   \n",
            "_________________________________________________________________\n",
            "lstm (LSTM)                  (None, 60, 35)            33040     \n",
            "_________________________________________________________________\n",
            "lstm_1 (LSTM)                (None, 35)                9940      \n",
            "_________________________________________________________________\n",
            "dropout (Dropout)            (None, 35)                0         \n",
            "_________________________________________________________________\n",
            "dense (Dense)                (None, 1)                 36        \n",
            "=================================================================\n",
            "Total params: 3,055,216\n",
            "Trainable params: 43,016\n",
            "Non-trainable params: 3,012,200\n",
            "_________________________________________________________________\n",
            "None\n"
          ],
          "name": "stdout"
        }
      ]
    },
    {
      "cell_type": "code",
      "metadata": {
        "id": "fZ-OF4Y5ie4R"
      },
      "source": [
        "#LSTM16052110.layers[1].get_weights()[0].shape"
      ],
      "execution_count": 17,
      "outputs": []
    },
    {
      "cell_type": "code",
      "metadata": {
        "id": "NyEkmklD2S-n"
      },
      "source": [
        "#%load_ext tensorboard"
      ],
      "execution_count": 18,
      "outputs": []
    },
    {
      "cell_type": "code",
      "metadata": {
        "id": "cUICNHA62OJM"
      },
      "source": [
        "logs_base_dir = \"./logs\"\n",
        "callbackForTB = tf.keras.callbacks.TensorBoard(logs_base_dir)"
      ],
      "execution_count": 19,
      "outputs": []
    },
    {
      "cell_type": "code",
      "metadata": {
        "id": "v88JJEqj4Crv"
      },
      "source": [
        "training_epochs = 30\n",
        "batch_size = 40\n",
        "validation_split=0.2"
      ],
      "execution_count": 20,
      "outputs": []
    },
    {
      "cell_type": "code",
      "metadata": {
        "id": "weZe8g7urGGu",
        "colab": {
          "base_uri": "https://localhost:8080/"
        },
        "outputId": "a1cc80fe-85e5-48b4-c08b-b6f848dcefb8"
      },
      "source": [
        "LSTM16052110.fit(nppadded_training, nptraining_labels, batch_size=batch_size, epochs=training_epochs, validation_split=validation_split, callbacks=[callbackForTB])"
      ],
      "execution_count": 21,
      "outputs": [
        {
          "output_type": "stream",
          "text": [
            "Epoch 1/30\n",
            "91/91 [==============================] - 12s 86ms/step - loss: 0.6561 - accuracy: 0.6647 - metrics_recall: 0.0104 - metrics_precision: 0.0166 - metrics_f1: 0.0128 - val_loss: 0.6500 - val_accuracy: 0.6718 - val_metrics_recall: 0.0000e+00 - val_metrics_precision: 0.0000e+00 - val_metrics_f1: 0.0000e+00\n",
            "Epoch 2/30\n",
            "91/91 [==============================] - 7s 72ms/step - loss: 0.6457 - accuracy: 0.6541 - metrics_recall: 2.0379e-04 - metrics_precision: 0.0026 - metrics_f1: 3.7848e-04 - val_loss: 0.6363 - val_accuracy: 0.6707 - val_metrics_recall: 0.0000e+00 - val_metrics_precision: 0.0000e+00 - val_metrics_f1: 0.0000e+00\n",
            "Epoch 3/30\n",
            "91/91 [==============================] - 6s 71ms/step - loss: 0.6429 - accuracy: 0.6543 - metrics_recall: 0.0102 - metrics_precision: 0.0228 - metrics_f1: 0.0096 - val_loss: 0.6378 - val_accuracy: 0.6707 - val_metrics_recall: 0.0000e+00 - val_metrics_precision: 0.0000e+00 - val_metrics_f1: 0.0000e+00\n",
            "Epoch 4/30\n",
            "91/91 [==============================] - 7s 72ms/step - loss: 0.6415 - accuracy: 0.6509 - metrics_recall: 0.0109 - metrics_precision: 0.0484 - metrics_f1: 0.0156 - val_loss: 0.5945 - val_accuracy: 0.6896 - val_metrics_recall: 0.4394 - val_metrics_precision: 0.5452 - val_metrics_f1: 0.4730\n",
            "Epoch 5/30\n",
            "91/91 [==============================] - 7s 72ms/step - loss: 0.5773 - accuracy: 0.6951 - metrics_recall: 0.3506 - metrics_precision: 0.5858 - metrics_f1: 0.3925 - val_loss: 0.6189 - val_accuracy: 0.7073 - val_metrics_recall: 0.3977 - val_metrics_precision: 0.5875 - val_metrics_f1: 0.4638\n",
            "Epoch 6/30\n",
            "91/91 [==============================] - 7s 72ms/step - loss: 0.5344 - accuracy: 0.7274 - metrics_recall: 0.4978 - metrics_precision: 0.6422 - metrics_f1: 0.5019 - val_loss: 0.5654 - val_accuracy: 0.7140 - val_metrics_recall: 0.5556 - val_metrics_precision: 0.5726 - val_metrics_f1: 0.5511\n",
            "Epoch 7/30\n",
            "91/91 [==============================] - 7s 73ms/step - loss: 0.4884 - accuracy: 0.7688 - metrics_recall: 0.5983 - metrics_precision: 0.6716 - metrics_f1: 0.6189 - val_loss: 0.5576 - val_accuracy: 0.7118 - val_metrics_recall: 0.6194 - val_metrics_precision: 0.5463 - val_metrics_f1: 0.5710\n",
            "Epoch 8/30\n",
            "91/91 [==============================] - 6s 71ms/step - loss: 0.4912 - accuracy: 0.7643 - metrics_recall: 0.6059 - metrics_precision: 0.6470 - metrics_f1: 0.5874 - val_loss: 0.5505 - val_accuracy: 0.7317 - val_metrics_recall: 0.4502 - val_metrics_precision: 0.6296 - val_metrics_f1: 0.5116\n",
            "Epoch 9/30\n",
            "91/91 [==============================] - 7s 72ms/step - loss: 0.4486 - accuracy: 0.7899 - metrics_recall: 0.6605 - metrics_precision: 0.7080 - metrics_f1: 0.6681 - val_loss: 0.5590 - val_accuracy: 0.7317 - val_metrics_recall: 0.5273 - val_metrics_precision: 0.6039 - val_metrics_f1: 0.5537\n",
            "Epoch 10/30\n",
            "91/91 [==============================] - 7s 72ms/step - loss: 0.3993 - accuracy: 0.8154 - metrics_recall: 0.7372 - metrics_precision: 0.7232 - metrics_f1: 0.7147 - val_loss: 0.5295 - val_accuracy: 0.7239 - val_metrics_recall: 0.4373 - val_metrics_precision: 0.6064 - val_metrics_f1: 0.4960\n",
            "Epoch 11/30\n",
            "91/91 [==============================] - 7s 73ms/step - loss: 0.3731 - accuracy: 0.8364 - metrics_recall: 0.7568 - metrics_precision: 0.7301 - metrics_f1: 0.7335 - val_loss: 0.6815 - val_accuracy: 0.7095 - val_metrics_recall: 0.5798 - val_metrics_precision: 0.5556 - val_metrics_f1: 0.5557\n",
            "Epoch 12/30\n",
            "91/91 [==============================] - 7s 72ms/step - loss: 0.3600 - accuracy: 0.8392 - metrics_recall: 0.7676 - metrics_precision: 0.7669 - metrics_f1: 0.7411 - val_loss: 0.6079 - val_accuracy: 0.7095 - val_metrics_recall: 0.6397 - val_metrics_precision: 0.5510 - val_metrics_f1: 0.5801\n",
            "Epoch 13/30\n",
            "91/91 [==============================] - 7s 72ms/step - loss: 0.3304 - accuracy: 0.8661 - metrics_recall: 0.8448 - metrics_precision: 0.7856 - metrics_f1: 0.8031 - val_loss: 0.5713 - val_accuracy: 0.7129 - val_metrics_recall: 0.6673 - val_metrics_precision: 0.5485 - val_metrics_f1: 0.5912\n",
            "Epoch 14/30\n",
            "91/91 [==============================] - 7s 72ms/step - loss: 0.2909 - accuracy: 0.8900 - metrics_recall: 0.8605 - metrics_precision: 0.8134 - metrics_f1: 0.8286 - val_loss: 0.6323 - val_accuracy: 0.6929 - val_metrics_recall: 0.6828 - val_metrics_precision: 0.5225 - val_metrics_f1: 0.5818\n",
            "Epoch 15/30\n",
            "91/91 [==============================] - 7s 72ms/step - loss: 0.2597 - accuracy: 0.9028 - metrics_recall: 0.8799 - metrics_precision: 0.8434 - metrics_f1: 0.8561 - val_loss: 0.6190 - val_accuracy: 0.7217 - val_metrics_recall: 0.5210 - val_metrics_precision: 0.5806 - val_metrics_f1: 0.5351\n",
            "Epoch 16/30\n",
            "91/91 [==============================] - 7s 72ms/step - loss: 0.2876 - accuracy: 0.8724 - metrics_recall: 0.8848 - metrics_precision: 0.7913 - metrics_f1: 0.8182 - val_loss: 0.8808 - val_accuracy: 0.7228 - val_metrics_recall: 0.5610 - val_metrics_precision: 0.5732 - val_metrics_f1: 0.5583\n",
            "Epoch 17/30\n",
            "91/91 [==============================] - 6s 71ms/step - loss: 0.2233 - accuracy: 0.9179 - metrics_recall: 0.8846 - metrics_precision: 0.8797 - metrics_f1: 0.8757 - val_loss: 0.8821 - val_accuracy: 0.7273 - val_metrics_recall: 0.4722 - val_metrics_precision: 0.6080 - val_metrics_f1: 0.5206\n",
            "Epoch 18/30\n",
            "91/91 [==============================] - 7s 73ms/step - loss: 0.2259 - accuracy: 0.9176 - metrics_recall: 0.8950 - metrics_precision: 0.8814 - metrics_f1: 0.8796 - val_loss: 0.7219 - val_accuracy: 0.6840 - val_metrics_recall: 0.6670 - val_metrics_precision: 0.5138 - val_metrics_f1: 0.5696\n",
            "Epoch 19/30\n",
            "91/91 [==============================] - 7s 73ms/step - loss: 0.1746 - accuracy: 0.9396 - metrics_recall: 0.9337 - metrics_precision: 0.8973 - metrics_f1: 0.9123 - val_loss: 0.8455 - val_accuracy: 0.7029 - val_metrics_recall: 0.5546 - val_metrics_precision: 0.5524 - val_metrics_f1: 0.5394\n",
            "Epoch 20/30\n",
            "91/91 [==============================] - 7s 72ms/step - loss: 0.1717 - accuracy: 0.9373 - metrics_recall: 0.9067 - metrics_precision: 0.9140 - metrics_f1: 0.9065 - val_loss: 0.8860 - val_accuracy: 0.7173 - val_metrics_recall: 0.4644 - val_metrics_precision: 0.5836 - val_metrics_f1: 0.5073\n",
            "Epoch 21/30\n",
            "91/91 [==============================] - 7s 73ms/step - loss: 0.1602 - accuracy: 0.9455 - metrics_recall: 0.9271 - metrics_precision: 0.9108 - metrics_f1: 0.9147 - val_loss: 0.9681 - val_accuracy: 0.7328 - val_metrics_recall: 0.4885 - val_metrics_precision: 0.6144 - val_metrics_f1: 0.5308\n",
            "Epoch 22/30\n",
            "91/91 [==============================] - 6s 71ms/step - loss: 0.1209 - accuracy: 0.9643 - metrics_recall: 0.9451 - metrics_precision: 0.9526 - metrics_f1: 0.9461 - val_loss: 1.0718 - val_accuracy: 0.6763 - val_metrics_recall: 0.6793 - val_metrics_precision: 0.5030 - val_metrics_f1: 0.5649\n",
            "Epoch 23/30\n",
            "91/91 [==============================] - 7s 74ms/step - loss: 0.1444 - accuracy: 0.9509 - metrics_recall: 0.9322 - metrics_precision: 0.9267 - metrics_f1: 0.9254 - val_loss: 0.9223 - val_accuracy: 0.7162 - val_metrics_recall: 0.5087 - val_metrics_precision: 0.5733 - val_metrics_f1: 0.5274\n",
            "Epoch 24/30\n",
            "91/91 [==============================] - 6s 71ms/step - loss: 0.1170 - accuracy: 0.9619 - metrics_recall: 0.9398 - metrics_precision: 0.9442 - metrics_f1: 0.9398 - val_loss: 1.1213 - val_accuracy: 0.7140 - val_metrics_recall: 0.5524 - val_metrics_precision: 0.5620 - val_metrics_f1: 0.5460\n",
            "Epoch 25/30\n",
            "91/91 [==============================] - 7s 74ms/step - loss: 0.1347 - accuracy: 0.9602 - metrics_recall: 0.9387 - metrics_precision: 0.9367 - metrics_f1: 0.9337 - val_loss: 1.0629 - val_accuracy: 0.7062 - val_metrics_recall: 0.5330 - val_metrics_precision: 0.5474 - val_metrics_f1: 0.5280\n",
            "Epoch 26/30\n",
            "91/91 [==============================] - 7s 73ms/step - loss: 0.0810 - accuracy: 0.9752 - metrics_recall: 0.9709 - metrics_precision: 0.9599 - metrics_f1: 0.9642 - val_loss: 1.0637 - val_accuracy: 0.7173 - val_metrics_recall: 0.5461 - val_metrics_precision: 0.5750 - val_metrics_f1: 0.5466\n",
            "Epoch 27/30\n",
            "91/91 [==============================] - 7s 73ms/step - loss: 0.1256 - accuracy: 0.9619 - metrics_recall: 0.9434 - metrics_precision: 0.9436 - metrics_f1: 0.9400 - val_loss: 1.1494 - val_accuracy: 0.7040 - val_metrics_recall: 0.5597 - val_metrics_precision: 0.5472 - val_metrics_f1: 0.5401\n",
            "Epoch 28/30\n",
            "91/91 [==============================] - 6s 71ms/step - loss: 0.1332 - accuracy: 0.9599 - metrics_recall: 0.9470 - metrics_precision: 0.9358 - metrics_f1: 0.9366 - val_loss: 1.1603 - val_accuracy: 0.7140 - val_metrics_recall: 0.4743 - val_metrics_precision: 0.5752 - val_metrics_f1: 0.5053\n",
            "Epoch 29/30\n",
            "91/91 [==============================] - 7s 72ms/step - loss: 0.0738 - accuracy: 0.9805 - metrics_recall: 0.9706 - metrics_precision: 0.9732 - metrics_f1: 0.9707 - val_loss: 1.1868 - val_accuracy: 0.6996 - val_metrics_recall: 0.5255 - val_metrics_precision: 0.5391 - val_metrics_f1: 0.5208\n",
            "Epoch 30/30\n",
            "91/91 [==============================] - 7s 72ms/step - loss: 0.0909 - accuracy: 0.9770 - metrics_recall: 0.9561 - metrics_precision: 0.9764 - metrics_f1: 0.9643 - val_loss: 1.0471 - val_accuracy: 0.6851 - val_metrics_recall: 0.5710 - val_metrics_precision: 0.5161 - val_metrics_f1: 0.5314\n"
          ],
          "name": "stdout"
        },
        {
          "output_type": "execute_result",
          "data": {
            "text/plain": [
              "<tensorflow.python.keras.callbacks.History at 0x7f22349b1a90>"
            ]
          },
          "metadata": {
            "tags": []
          },
          "execution_count": 21
        }
      ]
    },
    {
      "cell_type": "code",
      "metadata": {
        "id": "mOgPSige2PSk"
      },
      "source": [
        "#%tensorboard --logdir {logs_base_dir}"
      ],
      "execution_count": 22,
      "outputs": []
    },
    {
      "cell_type": "code",
      "metadata": {
        "id": "gATYCGKxZUrH"
      },
      "source": [
        "#from tensorboard import notebook\n",
        "#notebook.list()"
      ],
      "execution_count": 23,
      "outputs": []
    },
    {
      "cell_type": "code",
      "metadata": {
        "id": "RRzyrHJ5ZYPZ"
      },
      "source": [
        "#notebook.display(port=6006, height=1000) \n"
      ],
      "execution_count": 24,
      "outputs": []
    },
    {
      "cell_type": "code",
      "metadata": {
        "id": "tTGNmRTIYEhq"
      },
      "source": [
        "#!pip install tensorboardcolab\n",
        "#from tensorboardcolab import TensorBoardColab, TensorBoardColabCallback\n",
        "\n",
        "#tbc=TensorBoardColab()"
      ],
      "execution_count": 25,
      "outputs": []
    },
    {
      "cell_type": "code",
      "metadata": {
        "id": "Iaakc1HMuHOI",
        "colab": {
          "base_uri": "https://localhost:8080/"
        },
        "outputId": "5fe59533-0283-417f-a959-9c5c8fae75bd"
      },
      "source": [
        "(loss,accuracy, metrics_recall, metrics_precision,\n",
        "metrics_f1) = LSTM16052110.evaluate(nppadded_testing, nptesting_labels, verbose=1)"
      ],
      "execution_count": 26,
      "outputs": [
        {
          "output_type": "stream",
          "text": [
            "111/111 [==============================] - 2s 19ms/step - loss: 1.1646 - accuracy: 0.6560 - metrics_recall: 0.5103 - metrics_precision: 0.4999 - metrics_f1: 0.4920\n"
          ],
          "name": "stdout"
        }
      ]
    },
    {
      "cell_type": "code",
      "metadata": {
        "id": "nzjc-rMEuL16"
      },
      "source": [
        "LSTM_predict10 = LSTM16052110.predict(x=nppadded_testing)"
      ],
      "execution_count": 27,
      "outputs": []
    },
    {
      "cell_type": "code",
      "metadata": {
        "id": "Qd_WGzTuMuYX"
      },
      "source": [
        "#for p in LSTM_predict10:\n",
        " # print(p)"
      ],
      "execution_count": 28,
      "outputs": []
    },
    {
      "cell_type": "code",
      "metadata": {
        "id": "PluuAMv2MxlW"
      },
      "source": [
        "prediction_rounded10 = np.round(LSTM_predict10)\n",
        "\n",
        "#for p in prediction_rounded10:\n",
        " # print(p)\n",
        "\n",
        "\n",
        "#print(nptesting_labels[200:210])"
      ],
      "execution_count": 29,
      "outputs": []
    },
    {
      "cell_type": "code",
      "metadata": {
        "id": "tTlZpSlfZRGt"
      },
      "source": [
        "#print(testing_labels[10:16])\n",
        "#print(statementsForTesting[4:7])"
      ],
      "execution_count": 30,
      "outputs": []
    },
    {
      "cell_type": "markdown",
      "metadata": {
        "id": "rfW_WcDlWsZv"
      },
      "source": [
        "https://deeplizard.com/learn/video/km7pxKy4UHU\n",
        "\n",
        "Quelle der def plot_confusion_matrix: https://scikit-learn.org/stable/auto_examples/model_selection/plot_confusion_matrix.html#sphx-glr-auto-examples-model-selection-plot-confusion-matrix-py "
      ]
    },
    {
      "cell_type": "code",
      "metadata": {
        "id": "TZjt-y0-WrPZ"
      },
      "source": [
        "from sklearn.metrics import confusion_matrix\n",
        "import itertools\n",
        "import matplotlib.pyplot as plt"
      ],
      "execution_count": 31,
      "outputs": []
    },
    {
      "cell_type": "code",
      "metadata": {
        "id": "A5RUaFEcXmYc"
      },
      "source": [
        "def plot_confusion_matrix(cm, classes,\n",
        "                        normalize=False,\n",
        "                        title='Confusion matrix',\n",
        "                        cmap=plt.cm.Blues):\n",
        "    \"\"\"\n",
        "    This function prints and plots the confusion matrix.\n",
        "    Normalization can be applied by setting `normalize=True`.\n",
        "    \"\"\"\n",
        "    plt.imshow(cm, interpolation='nearest', cmap=cmap)\n",
        "    plt.title(title)\n",
        "    plt.colorbar()\n",
        "    tick_marks = np.arange(len(classes))\n",
        "    plt.xticks(tick_marks, classes, rotation=45)\n",
        "    plt.yticks(tick_marks, classes)\n",
        "\n",
        "    if normalize:\n",
        "        cm = cm.astype('float') / cm.sum(axis=1)[:, np.newaxis]\n",
        "        print(\"Normalized confusion matrix\")\n",
        "    else:\n",
        "        print('Confusion matrix, without normalization')\n",
        "\n",
        "    print(cm)\n",
        "\n",
        "    thresh = cm.max() / 2.\n",
        "    for i, j in itertools.product(range(cm.shape[0]), range(cm.shape[1])):\n",
        "        plt.text(j, i, cm[i, j],\n",
        "            horizontalalignment=\"center\",\n",
        "            color=\"white\" if cm[i, j] > thresh else \"black\")\n",
        "\n",
        "    plt.tight_layout()\n",
        "    plt.ylabel('True label')\n",
        "    plt.xlabel('Predicted label')"
      ],
      "execution_count": 32,
      "outputs": []
    },
    {
      "cell_type": "code",
      "metadata": {
        "id": "4Mu7wle3Wr5S"
      },
      "source": [
        "cm = confusion_matrix(y_true=nptesting_labels, y_pred=prediction_rounded10)"
      ],
      "execution_count": 33,
      "outputs": []
    },
    {
      "cell_type": "code",
      "metadata": {
        "id": "QcIt6FU7Wr_q"
      },
      "source": [
        "plot_labels = ['no hatespeech','hatespeech']"
      ],
      "execution_count": 34,
      "outputs": []
    },
    {
      "cell_type": "code",
      "metadata": {
        "id": "X-K7cFJfWsGV",
        "colab": {
          "base_uri": "https://localhost:8080/",
          "height": 362
        },
        "outputId": "4297aeea-d537-435b-f769-85d0d3d30a83"
      },
      "source": [
        "plot_confusion_matrix(cm=cm, classes=plot_labels, title='LSTM Confusion 35')"
      ],
      "execution_count": 35,
      "outputs": [
        {
          "output_type": "stream",
          "text": [
            "Confusion matrix, without normalization\n",
            "[[1709  621]\n",
            " [ 594  608]]\n"
          ],
          "name": "stdout"
        },
        {
          "output_type": "display_data",
          "data": {
            "image/png": "[encoded data removed]",
            "text/plain": [
              "<Figure size 432x288 with 2 Axes>"
            ]
          },
          "metadata": {
            "tags": [],
            "needs_background": "light"
          }
        }
      ]
    }
  ]
}