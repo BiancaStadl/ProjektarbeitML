{
  "nbformat": 4,
  "nbformat_minor": 0,
  "metadata": {
    "colab": {
      "name": "LSTM.ipynb",
      "provenance": [],
      "collapsed_sections": [],
      "authorship_tag": "ABX9TyOlhNDktoGXxKe5B+ZnBGiN",
      "include_colab_link": true
    },
    "kernelspec": {
      "name": "python3",
      "display_name": "Python 3"
    }
  },
  "cells": [
    {
      "cell_type": "markdown",
      "metadata": {
        "id": "view-in-github",
        "colab_type": "text"
      },
      "source": [
        "<a href=\"https://colab.research.google.com/github/BiancaStadl/ProjektarbeitML/blob/main/LSTM.ipynb\" target=\"_parent\"><img src=\"https://colab.research.google.com/assets/colab-badge.svg\" alt=\"Open In Colab\"/></a>"
      ]
    },
    {
      "cell_type": "markdown",
      "metadata": {
        "id": "r7k0zcJoyD3R"
      },
      "source": [
        "GloVe embeddings taken from:\n",
        "\n",
        "Jeffrey Pennington, Richard Socher, and Christopher D. Manning. 2014. GloVe: Global Vectors for Word Representation. [pdf] [bib]\n",
        "\n",
        "hatespeechdata taken from (https://hatespeechdata.com/): Wiegand, M., Siegel, M. and Ruppenhofer, J., 2018. Overview of the GermEval 2018 Shared Task on the Identification of Offensive Language. In: Proceedings of GermEval 2018, 14th Conference on Natural Language Processing (KONVENS 2018). Vienna, Austria: Research Gate. available on: https://github.com/uds-lsv/GermEval-2018-Data (last checked: 09.05.2021)"
      ]
    },
    {
      "cell_type": "code",
      "metadata": {
        "id": "p3xfitNdliBI"
      },
      "source": [
        "#import matplotlib.pyplot as plt -> für evtl Visualisierungen\n",
        "import os\n",
        "import re\n",
        "import shutil\n",
        "import string\n",
        "import tensorflow as tf\n",
        "import numpy as np\n",
        "from keras import losses\n",
        "from tensorflow import keras \n",
        "from keras import optimizers \n",
        "from keras import metrics \n",
        "\n",
        "#!pip install Tokenizer\n",
        "from keras.preprocessing.text import Tokenizer\n",
        "#!pip install pad_sequences\n",
        "from tensorflow.keras.preprocessing.sequence import pad_sequences\n",
        "from tensorflow.keras import layers\n",
        "from tensorflow.keras import losses\n",
        "from tensorflow.keras import preprocessing\n",
        "#from tensorflow.keras.layers.experimental.preprocessing import TextVectorization\n"
      ],
      "execution_count": 1,
      "outputs": []
    },
    {
      "cell_type": "markdown",
      "metadata": {
        "id": "JTWJQ1iga_vS"
      },
      "source": [
        "Einige Parameter für das Netz setzen.. https://becominghuman.ai/creating-your-own-neural-network-using-tensorflow-fa8ca7cc4d0e "
      ]
    },
    {
      "cell_type": "code",
      "metadata": {
        "id": "Bq08Me5la_Cc"
      },
      "source": [
        "max_length = 60"
      ],
      "execution_count": 2,
      "outputs": []
    },
    {
      "cell_type": "code",
      "metadata": {
        "id": "JVYBMvYSotTH"
      },
      "source": [
        "url = \"https://github.com/uds-lsv/GermEval-2018-Data/archive/master.zip\"\n",
        "\n",
        "dataset = tf.keras.utils.get_file(\"GermEval-2018-Data-master.zip\", url, \n",
        "                                   extract=True, cache_dir='.',\n",
        "                                    cache_subdir='')\n",
        "\n",
        "dataset_dir = os.path.join(os.path.dirname(dataset), 'GermEval-2018-Data-master')\n"
      ],
      "execution_count": 3,
      "outputs": []
    },
    {
      "cell_type": "code",
      "metadata": {
        "id": "cS14OUtfo34V"
      },
      "source": [
        "#os.listdir(dataset_dir)"
      ],
      "execution_count": 4,
      "outputs": []
    },
    {
      "cell_type": "code",
      "metadata": {
        "id": "2X429K6hpOVm"
      },
      "source": [
        "training_file = os.path.join(dataset_dir, 'germeval2018.training.txt')\n",
        "#with open(training_file) as f:\n",
        " # print(f.read())\n",
        "\n",
        "#print()\n",
        "\n",
        "testing_file = os.path.join(dataset_dir, 'germeval2018.test.txt')\n"
      ],
      "execution_count": 5,
      "outputs": []
    },
    {
      "cell_type": "code",
      "metadata": {
        "id": "iRqhP_Fx0cK3"
      },
      "source": [
        "def remove_clutter(string):\n",
        "   string = re.sub(\"@[^\\s]+\",\" \",string)\n",
        "   string = re.sub(\"#[^\\s]+\",\" \", string)\n",
        "   string = re.sub(\"\\u00a9\",\" \", string)\n",
        "   string = re.sub(\"\\u00ae\",\" \", string)\n",
        "   string = re.sub(\"[\\u2000-\\u3300]\",\" \", string)\n",
        "   string = re.sub(\"\\ud83c[\\ud000-\\udfff]\",\" \", string)\n",
        "   string = re.sub(\"\\ud83d[\\ud000-\\udfff]\",\" \", string)\n",
        "   string = re.sub(\"\\ud83e[\\ud000-\\udfff]\",\" \", string)\n",
        "   string = re.sub(\"😜\", \" \",string)\n",
        "   string = re.sub(\"🍫\", \" \",string)\n",
        "   string = re.sub(\"😁\", \" \",string)\n",
        "   string = re.sub(\"🐖\", \" \",string)\n",
        "   string = re.sub(\"😡\", \" \",string)\n",
        "   string = re.sub(\"😇\", \" \",string)\n",
        "   string = re.sub(\"😬\", \" \",string)\n",
        "   string = re.sub(\"😃\", \" \",string)\n",
        "   string = re.sub(\"😂\", \" \",string)\n",
        "   string = re.sub(\"💙\", \" \",string)  \n",
        "   string = re.sub(\"😛\", \" \",string)\n",
        "   string = re.sub(\"🙏\", \" \",string)\n",
        "   string = re.sub(\"👍\", \" \",string)\n",
        "   string = re.sub(\"🖕\", \" \",string)\n",
        "   string = re.sub(\"😉\", \" \",string)\n",
        "   string = re.sub(\"💩\", \" \",string)\n",
        "   string = re.sub(\"🤢\", \" \",string)\n",
        "   string = re.sub(\"👏\", \" \",string)\n",
        "   string = re.sub(\"😨\", \" \",string)\n",
        "   string = re.sub(\"🤣\", \" \",string)\n",
        "   string = re.sub(\"🤡\", \" \",string)\n",
        "   string = re.sub(\"😈\", \" \",string)\n",
        "   string = re.sub(\"💃🏽\", \" \",string)\n",
        "   string = re.sub(\"👹\", \" \",string)\n",
        "   string = re.sub(\"🤘\", \" \",string)\n",
        "   string = re.sub(\"😱\", \" \",string)\n",
        "   string = re.sub(\"🤔\", \" \",string) \n",
        "   string = re.sub(\"🌈\", \" \",string) \n",
        "   string = re.sub(\"💕\", \" \",string) \n",
        "   string = re.sub(\"👩‍❤️‍👩\", \" \",string) \n",
        "   string = re.sub(\"😍\", \" \",string) \n",
        "   string = re.sub(\"👆\", \" \",string) \n",
        "   string = re.sub(\"😖\", \" \",string) \n",
        "   string = re.sub(\"👇\", \" \",string) \n",
        "   string = re.sub(\"🔥\", \" \",string) \n",
        "   string = re.sub(\"😘\", \" \",string) \n",
        "   string = re.sub(\"🎉\", \" \",string) \n",
        "   string = re.sub(\"🤬\", \" \",string) \n",
        "   string = re.sub(\"👊\", \" \",string)\n",
        "   string = re.sub(\"🇩🇪\", \" \",string)  \n",
        "   string = re.sub(\"💔\", \" \",string)\n",
        "   string = re.sub(\"🙈\", \" \",string)\n",
        "   string = re.sub(\"🤯\", \" \",string)\n",
        "   string = re.sub(\"🐟\", \" \",string)\n",
        "   string = re.sub(\"🛶\", \" \",string)\n",
        "   string = re.sub(\"😊\", \" \",string)\n",
        "   string = re.sub(\"😓\", \" \",string)\n",
        "   string = re.sub(\"😳\", \" \",string)\n",
        "   string = re.sub(\"🚀\", \" \",string)\n",
        "   string = re.sub(\"👎\", \" \",string)\n",
        "   string = re.sub(\"😎\", \" \",string)\n",
        "   string = re.sub(\"🐸\", \" \",string)\n",
        "   string = re.sub(\"📈\", \" \",string)\n",
        "   string = re.sub(\"🙂\", \" \",string)\n",
        "   string = re.sub(\"😅\", \" \",string)\n",
        "   string = re.sub(\"😆\", \" \",string)\n",
        "   string = re.sub(\"🙎🏿\", \" \",string)\n",
        "   string = re.sub(\"👎🏽\", \" \",string)\n",
        "   string = re.sub(\"🤭\", \" \",string)\n",
        "   string = re.sub(\"😤\", \" \",string)\n",
        "   string = re.sub(\"😚\", \" \",string)\n",
        "   string = re.sub(\"😊\", \" \",string)\n",
        "   string = re.sub(\"😲\", \" \",string)\n",
        "   string = re.sub(\"🤮\", \" \",string)\n",
        "   string = re.sub(\"🙄\", \" \",string)\n",
        "   string = re.sub(\"🤑\", \" \",string)\n",
        "   string = re.sub(\"🎅\", \" \",string)\n",
        "   string = re.sub(\"👋\", \" \",string)\n",
        "   string = re.sub(\"💪\", \" \",string)\n",
        "   string = re.sub(\"😄\", \" \",string)\n",
        "   string = re.sub(\"🧐\", \" \",string)\n",
        "   string = re.sub(\"😠\", \" \",string)\n",
        "   string = re.sub(\"🎈\", \" \",string)\n",
        "   string = re.sub(\"🚂\", \" \",string)\n",
        "   string = re.sub(\"😊\", \" \",string)\n",
        "   string = re.sub(\"🚇\", \" \",string)\n",
        "   string = re.sub(\"🚊\", \" \",string)\n",
        "   string = re.sub(\"🤷\", \" \",string)\n",
        "   string = re.sub(\"😥\", \" \",string)\n",
        "   string = re.sub(\"🙃\", \" \",string)\n",
        "   string = re.sub(\"🔩\", \" \",string)\n",
        "   string = re.sub(\"🔧\", \" \",string)\n",
        "   string = re.sub(\"🔨\", \" \",string)\n",
        "   string = re.sub(\"🛠\", \" \",string)\n",
        "   string = re.sub(\"💓\", \" \",string)\n",
        "   string = re.sub(\"💡\", \" \",string)\n",
        "   string = re.sub(\"🍸\", \" \",string)\n",
        "   string = re.sub(\"🥃\", \" \",string)\n",
        "   string = re.sub(\"🥂\", \" \",string)\n",
        "   string = re.sub(\"😷\", \" \",string)\n",
        "   string = re.sub(\"🤐\", \" \",string)\n",
        "   string = re.sub(\"🌎\", \" \",string)\n",
        "   string = re.sub(\"👑\", \" \",string)\n",
        "   string = re.sub(\"🤛\", \" \",string)\n",
        "   string = re.sub(\"😀\", \" \",string)\n",
        "   string = re.sub(\"🛤\", \" \",string)\n",
        "   string = re.sub(\"🎄\", \" \",string)\n",
        "   string = re.sub(\"📴\", \" \",string)\n",
        "   string = re.sub(\"🌭\", \" \",string)\n",
        "   string = re.sub(\"🤕\", \" \",string)\n",
        "   string = re.sub(\"😭\", \" \",string)\n",
        "   string = re.sub(\"🍾\", \" \",string)\n",
        "   string = re.sub(\"🍞\", \" \",string)\n",
        "   string = re.sub(\"🤦\", \" \",string)\n",
        "   string = re.sub(\"🤯\", \" \",string)\n",
        "   string = re.sub(\"🕯️\", \" \",string)\n",
        "\n",
        "   string = re.sub(\"OTHER|OFFENSE|ABUSE|INSULT\",\" \",string)\n",
        "   return string"
      ],
      "execution_count": 6,
      "outputs": []
    },
    {
      "cell_type": "code",
      "metadata": {
        "id": "5asMgo4LtnRg"
      },
      "source": [
        "statementsForTraining = []\n",
        "sentimentsForTraining = []\n",
        "\n",
        "fileToRead = open(training_file, 'r')\n",
        "\n",
        "while True:\n",
        "  #next line in file\n",
        "  line = fileToRead.readline()\n",
        "\n",
        "  if line == \"\":\n",
        "   break\n",
        "\n",
        "  findSentiment = re.search(\"OTHER|OFFENSE\",line)\n",
        "\n",
        "  line = remove_clutter(line)\n",
        "      \n",
        "\n",
        "  statementsForTraining.append(line)\n",
        "\n",
        "   #sentimentsForTraining.append(findSentiment.group(0))\n",
        "\n",
        "  if findSentiment.group(0) == \"OTHER\":  \n",
        "    sentimentsForTraining.append(0)\n",
        "  else:\n",
        "    sentimentsForTraining.append(1)\n",
        "\n",
        "  if not line:\n",
        "    break\n",
        "\n",
        " #print(\"{}: {}\".format(count,line.strip()))\n",
        "  \n",
        " # print(sentiment.group(0))\n",
        " \n",
        "fileToRead.close()\n",
        "\n",
        "training_sentences = statementsForTraining\n",
        "training_labels = sentimentsForTraining\n",
        "\n",
        "#print(training_sentences[0:100])\n",
        "#print(training_labels[9])  "
      ],
      "execution_count": 7,
      "outputs": []
    },
    {
      "cell_type": "code",
      "metadata": {
        "id": "VsqZPENb98gD"
      },
      "source": [
        "\n",
        "statementsForTesting = []\n",
        "sentimentsForTesting = []\n",
        "\n",
        "fileToRead = open(testing_file, 'r')\n",
        "\n",
        "while True:\n",
        " \n",
        "  line = fileToRead.readline()\n",
        "\n",
        "  if line == \"\":\n",
        "   break\n",
        "\n",
        "  sent = re.search(\"OTHER|OFFENSE\",line)\n",
        "\n",
        "  line = remove_clutter(line)\n",
        "\n",
        "\n",
        "  statementsForTesting.append(line)\n",
        "  #print(len(line))\n",
        "  #sentimentsForTesting.append(sent.group(0))\n",
        "\n",
        "  if sent.group(0) == \"OTHER\": \n",
        "    sentimentsForTesting.append(0)\n",
        "  else:\n",
        "    sentimentsForTesting.append(1)\n",
        "\n",
        "  if not line:\n",
        "    break\n",
        "\n",
        "\n",
        "fileToRead.close()\n",
        "\n",
        "\n",
        "testing_sentences = statementsForTesting\n",
        "testing_labels = sentimentsForTesting\n",
        "#print(len(testing_sentences))\n",
        "#print(testing_sentences)   \n",
        "#print(statementsForTesting)"
      ],
      "execution_count": 8,
      "outputs": []
    },
    {
      "cell_type": "code",
      "metadata": {
        "id": "W3hFi7waTv5m"
      },
      "source": [
        "tokenizer = Tokenizer(oov_token=\"OOV\")\n",
        "tokenizer.fit_on_texts(training_sentences)\n",
        "\n",
        "word_index = tokenizer.word_index\n",
        "validation_size = 500\n",
        "\n",
        "training_sequences = tokenizer.texts_to_sequences(training_sentences)\n",
        "padded_training = pad_sequences(training_sequences, maxlen=max_length, padding='post')\n",
        "\n",
        "#print(len(padded_training))\n",
        "\n",
        "validation_sequences = padded_training[0:validation_size]\n",
        "validation_labels = training_labels[0:validation_size]\n",
        "\n",
        "padded_training = padded_training[validation_size:]\n",
        "training_labels = training_labels[validation_size:]\n",
        "\n",
        "testing_sequences = tokenizer.texts_to_sequences(testing_sentences)\n",
        "padded_testing = pad_sequences(testing_sequences, maxlen=max_length, padding='post')\n",
        "\n",
        "#print(validation_sequences[499])\n",
        "#print(padded_training[0])\n",
        "#print(len(validation_labels))\n",
        "#print(len(training_labels))\n",
        "\n",
        "\n",
        "nppadded_training = np.array(padded_training)\n",
        "nptraining_labels = np.array(training_labels)\n",
        "\n",
        "nppadded_validation = np.array(validation_sequences)\n",
        "npvalidation_labels = np.array(validation_labels)\n",
        "\n",
        "nppadded_testing = np.array(padded_testing)\n",
        "nptesting_labels = np.array(testing_labels)\n",
        "\n"
      ],
      "execution_count": 9,
      "outputs": []
    },
    {
      "cell_type": "code",
      "metadata": {
        "colab": {
          "base_uri": "https://localhost:8080/"
        },
        "id": "klOlU-WKU1sL",
        "outputId": "6a30caa2-6f44-4b9d-dcfe-b54632008413"
      },
      "source": [
        "\n",
        "#print(statementsForTraining[2])\n",
        "\n",
        "print(validation_sequences[4])\n",
        "print(statementsForTraining[4])\n",
        "#print(nppadded_training.shape)\n",
        "\n",
        "#print(nptraining_labels[4])\n",
        "#print(nppadded_testing.shape)\n",
        "\n",
        "#print(word_index) "
      ],
      "execution_count": 10,
      "outputs": [
        {
          "output_type": "stream",
          "text": [
            "[  93 5784 5785 5786   66   14 5787  849   60 5788    8    2 3624    0\n",
            "    0    0    0    0    0    0    0    0    0    0    0    0    0    0\n",
            "    0    0    0    0    0    0    0    0    0    0    0    0    0    0\n",
            "    0    0    0    0    0    0    0    0    0    0    0    0    0    0\n",
            "    0    0    0    0]\n",
            "  kein verläßlicher Verhandlungspartner. Nachkarteln nach den Sondierzngsgesprächen - schickt diese Stümper   in die Versenkung.\t \t \n",
            "\n"
          ],
          "name": "stdout"
        }
      ]
    },
    {
      "cell_type": "code",
      "metadata": {
        "colab": {
          "base_uri": "https://localhost:8080/"
        },
        "id": "Lj8KEkavjm-D",
        "outputId": "192dff4f-7346-4b90-cf9e-ddb5653078fa"
      },
      "source": [
        "from google.colab import drive\n",
        "drive.mount(\"/content/drive\")\n",
        "#os.listdir(\"/content/drive/MyDrive/Colab Notebooks\")"
      ],
      "execution_count": 11,
      "outputs": [
        {
          "output_type": "stream",
          "text": [
            "Drive already mounted at /content/drive; to attempt to forcibly remount, call drive.mount(\"/content/drive\", force_remount=True).\n"
          ],
          "name": "stdout"
        }
      ]
    },
    {
      "cell_type": "code",
      "metadata": {
        "colab": {
          "base_uri": "https://localhost:8080/"
        },
        "id": "YB_6sr3_jhPK",
        "outputId": "ea8a15b8-1488-43b7-8be6-5aec4259ab1a"
      },
      "source": [
        "#Größe Vokabel -> wordindex + 2 (weil padding + OOV) \n",
        "hits = 0\n",
        "misses = 0\n",
        "\n",
        "vocabulary_size = len(word_index)+2\n",
        "\n",
        "# dann erstell ich ein Wörterbuch mit Namen \"embedding_vector\", dort sind dann\n",
        "#die keys drinnen, die in glove-Datei drinnen sind mit dem entsprechenden Key\n",
        "\n",
        "embedding_index_glove = {}\n",
        "f = open('/content/drive/MyDrive/Colab Notebooks/glove.twitter.27B.200d.txt')\n",
        "for line in f:\n",
        "  value = line.split()\n",
        "  word = value[0]\n",
        "  coef = np.asarray(value[1:],dtype='float32')\n",
        "  embedding_index_glove[word] = coef\n",
        "\n",
        "print(\"%d gefunden: \"% len(embedding_index_glove))\n",
        "\n",
        "#Dann noch eine Embedding-Matrix erstellen\n",
        "#zweiter Wert = Embedding-Dimension der Datei, in dem Fall 200\n",
        "\n",
        "glove_matrix = np.zeros((vocabulary_size,200))\n",
        "for word, index in tokenizer.word_index.items():\n",
        "    embedding_value = embedding_index_glove.get(word)\n",
        "    if embedding_value is not None:\n",
        "      glove_matrix[index] = embedding_value\n",
        "      hits+=1\n",
        "    else:\n",
        "      misses+=1\n",
        "\n",
        "print(\"hits %d and %d misses\"%(hits,misses))"
      ],
      "execution_count": 12,
      "outputs": [
        {
          "output_type": "stream",
          "text": [
            "1193514 gefunden: \n",
            "hits 6747 and 8312 misses\n"
          ],
          "name": "stdout"
        }
      ]
    },
    {
      "cell_type": "code",
      "metadata": {
        "id": "ekXQeS2rqN01"
      },
      "source": [
        "from keras.layers import Dense, Dropout, Activation\n",
        "from keras.layers import Embedding, LSTM"
      ],
      "execution_count": 13,
      "outputs": []
    },
    {
      "cell_type": "code",
      "metadata": {
        "id": "G5qYC_xx_aTK"
      },
      "source": [
        "import keras.backend as K\n",
        "\n",
        "def metrics_recall(data_true, data_pred):\n",
        "    data_true = K.ones_like(data_true)\n",
        "    true_positives = K.sum(K.round(K.clip(data_true*data_pred,0,1)))\n",
        "    possible_positives = K.sum(K.round(K.clip(data_true,0,1)))\n",
        "\n",
        "    recall = true_positives / (possible_positives+K.epsilon())\n",
        "    return recall\n",
        "\n",
        "\n",
        "def metrics_precision(data_true, data_pred):\n",
        "    data_true = K.ones_like(data_true)\n",
        "    true_positives = K.sum(K.round(K.clip(data_true*data_pred,0,1)))\n",
        "\n",
        "    positives_predicted = K.sum(K.round(K.clip(data_pred,0,1)))\n",
        "    precision = true_positives / (positives_predicted+K.epsilon())\n",
        "    return precision\n",
        "\n",
        "\n",
        "def metrics_f1(data_true, data_pred):\n",
        "    precision_data = metrics_precision(data_true, data_pred)\n",
        "    recall_data = metrics_recall(data_true, data_pred)\n",
        "    return 2*(precision_data*recall_data)/(precision_data+recall_data+K.epsilon())"
      ],
      "execution_count": 14,
      "outputs": []
    },
    {
      "cell_type": "code",
      "metadata": {
        "id": "oFwXT1wypY_B"
      },
      "source": [
        "from tensorflow.keras.layers import Embedding\n",
        "#print(len(word_index))\n",
        "LSTM16052111 = tf.keras.Sequential()\n",
        "#LSTM16052111.add(tf.keras.layers.Embedding(input_dim=15132, output_dim=100, input_length=max_length))\n",
        "LSTM16052111.add(tf.keras.layers.Embedding(vocabulary_size, output_dim=200, input_length=60, embeddings_initializer = keras.initializers.Constant(glove_matrix), trainable= False))\n",
        "#LSTM16052111.add(tf.keras.layers.Conv1D(filters=10, kernel_size=3,activation='relu'))\n",
        "#LSTM16052111.add(tf.keras.layers.MaxPooling1D())\n",
        "LSTM16052111.add(tf.keras.layers.LSTM(60, activation=\"tanh\", recurrent_activation=\"sigmoid\", use_bias=True,return_sequences=True))\n",
        "#LSTM16052111.add(tf.keras.layers.GlobalMaxPooling1D())\n",
        "LSTM16052111.add(tf.keras.layers.LSTM(60))\n",
        "LSTM16052111.add(tf.keras.layers.Dropout(0.5))\n",
        "#LSTM16052111.add(tf.keras.layers.Dense(65,activation='relu'))\n",
        "#added 070521\n",
        "LSTM16052111.add(tf.keras.layers.Dense(1, activation='sigmoid'))\n",
        "\n"
      ],
      "execution_count": 15,
      "outputs": []
    },
    {
      "cell_type": "code",
      "metadata": {
        "colab": {
          "base_uri": "https://localhost:8080/"
        },
        "id": "7IuFfu-1LeDP",
        "outputId": "2ed7e051-31f2-4983-e30a-05f2ee48a9b1"
      },
      "source": [
        "LSTM16052111.compile(loss='binary_crossentropy', optimizer='adam',metrics=['accuracy',metrics_recall,metrics_precision,metrics_f1])\n",
        "print(LSTM16052111.summary())"
      ],
      "execution_count": 16,
      "outputs": [
        {
          "output_type": "stream",
          "text": [
            "Model: \"sequential\"\n",
            "_________________________________________________________________\n",
            "Layer (type)                 Output Shape              Param #   \n",
            "=================================================================\n",
            "embedding (Embedding)        (None, 60, 200)           3012200   \n",
            "_________________________________________________________________\n",
            "lstm (LSTM)                  (None, 60, 60)            62640     \n",
            "_________________________________________________________________\n",
            "lstm_1 (LSTM)                (None, 60)                29040     \n",
            "_________________________________________________________________\n",
            "dropout (Dropout)            (None, 60)                0         \n",
            "_________________________________________________________________\n",
            "dense (Dense)                (None, 1)                 61        \n",
            "=================================================================\n",
            "Total params: 3,103,941\n",
            "Trainable params: 91,741\n",
            "Non-trainable params: 3,012,200\n",
            "_________________________________________________________________\n",
            "None\n"
          ],
          "name": "stdout"
        }
      ]
    },
    {
      "cell_type": "code",
      "metadata": {
        "id": "fZ-OF4Y5ie4R",
        "colab": {
          "base_uri": "https://localhost:8080/"
        },
        "outputId": "78620dbe-7e70-488a-81d1-ad39477f8dc6"
      },
      "source": [
        "LSTM16052111.layers[1].get_weights()[0].shape"
      ],
      "execution_count": 17,
      "outputs": [
        {
          "output_type": "execute_result",
          "data": {
            "text/plain": [
              "(200, 240)"
            ]
          },
          "metadata": {
            "tags": []
          },
          "execution_count": 17
        }
      ]
    },
    {
      "cell_type": "code",
      "metadata": {
        "id": "NyEkmklD2S-n"
      },
      "source": [
        "%load_ext tensorboard"
      ],
      "execution_count": 18,
      "outputs": []
    },
    {
      "cell_type": "code",
      "metadata": {
        "id": "cUICNHA62OJM"
      },
      "source": [
        "logs_base_dir = \"./logs\"\n",
        "callbackForTB = tf.keras.callbacks.TensorBoard(logs_base_dir)"
      ],
      "execution_count": 19,
      "outputs": []
    },
    {
      "cell_type": "code",
      "metadata": {
        "id": "v88JJEqj4Crv"
      },
      "source": [
        "training_epochs = 30\n",
        "batch_size = 40\n",
        "validation_split=0.2"
      ],
      "execution_count": 20,
      "outputs": []
    },
    {
      "cell_type": "code",
      "metadata": {
        "id": "weZe8g7urGGu",
        "colab": {
          "base_uri": "https://localhost:8080/"
        },
        "outputId": "a7b9d46f-a641-4367-fb33-00435e762c37"
      },
      "source": [
        "LSTM16052111.fit(nppadded_training, nptraining_labels, batch_size=batch_size, epochs=training_epochs, validation_split=validation_split, callbacks=[callbackForTB])"
      ],
      "execution_count": 21,
      "outputs": [
        {
          "output_type": "stream",
          "text": [
            "Epoch 1/30\n",
            "91/91 [==============================] - 14s 108ms/step - loss: 0.6598 - accuracy: 0.6500 - metrics_recall: 0.0327 - metrics_precision: 0.1415 - metrics_f1: 0.0436 - val_loss: 0.6347 - val_accuracy: 0.6718 - val_metrics_recall: 0.0000e+00 - val_metrics_precision: 0.0000e+00 - val_metrics_f1: 0.0000e+00\n",
            "Epoch 2/30\n",
            "91/91 [==============================] - 8s 91ms/step - loss: 0.6464 - accuracy: 0.6566 - metrics_recall: 0.0014 - metrics_precision: 0.0555 - metrics_f1: 0.0027 - val_loss: 0.6334 - val_accuracy: 0.6718 - val_metrics_recall: 0.0000e+00 - val_metrics_precision: 0.0000e+00 - val_metrics_f1: 0.0000e+00\n",
            "Epoch 3/30\n",
            "91/91 [==============================] - 8s 91ms/step - loss: 0.6430 - accuracy: 0.6543 - metrics_recall: 0.0041 - metrics_precision: 0.0699 - metrics_f1: 0.0069 - val_loss: 0.6336 - val_accuracy: 0.6718 - val_metrics_recall: 0.0000e+00 - val_metrics_precision: 0.0000e+00 - val_metrics_f1: 0.0000e+00\n",
            "Epoch 4/30\n",
            "91/91 [==============================] - 8s 90ms/step - loss: 0.6404 - accuracy: 0.6626 - metrics_recall: 0.0011 - metrics_precision: 0.0448 - metrics_f1: 0.0022 - val_loss: 0.6319 - val_accuracy: 0.6729 - val_metrics_recall: 0.0033 - val_metrics_precision: 0.1304 - val_metrics_f1: 0.0064\n",
            "Epoch 5/30\n",
            "91/91 [==============================] - 8s 90ms/step - loss: 0.6313 - accuracy: 0.6733 - metrics_recall: 0.0114 - metrics_precision: 0.2683 - metrics_f1: 0.0210 - val_loss: 0.6289 - val_accuracy: 0.6752 - val_metrics_recall: 0.0076 - val_metrics_precision: 0.3043 - val_metrics_f1: 0.0148\n",
            "Epoch 6/30\n",
            "91/91 [==============================] - 8s 91ms/step - loss: 0.6225 - accuracy: 0.6748 - metrics_recall: 0.0461 - metrics_precision: 0.6142 - metrics_f1: 0.0808 - val_loss: 0.6197 - val_accuracy: 0.6785 - val_metrics_recall: 0.0174 - val_metrics_precision: 0.6087 - val_metrics_f1: 0.0337\n",
            "Epoch 7/30\n",
            "91/91 [==============================] - 8s 92ms/step - loss: 0.5820 - accuracy: 0.6984 - metrics_recall: 0.1376 - metrics_precision: 0.8069 - metrics_f1: 0.2171 - val_loss: 0.5911 - val_accuracy: 0.7084 - val_metrics_recall: 0.1229 - val_metrics_precision: 1.0000 - val_metrics_f1: 0.2149\n",
            "Epoch 8/30\n",
            "91/91 [==============================] - 8s 91ms/step - loss: 0.5627 - accuracy: 0.7164 - metrics_recall: 0.2083 - metrics_precision: 0.9864 - metrics_f1: 0.3266 - val_loss: 0.5637 - val_accuracy: 0.6863 - val_metrics_recall: 0.2591 - val_metrics_precision: 1.0000 - val_metrics_f1: 0.4062\n",
            "Epoch 9/30\n",
            "91/91 [==============================] - 8s 91ms/step - loss: 0.5266 - accuracy: 0.7176 - metrics_recall: 0.2650 - metrics_precision: 0.9788 - metrics_f1: 0.3971 - val_loss: 0.5666 - val_accuracy: 0.6874 - val_metrics_recall: 0.0196 - val_metrics_precision: 0.6087 - val_metrics_f1: 0.0377\n",
            "Epoch 10/30\n",
            "91/91 [==============================] - 8s 92ms/step - loss: 0.5646 - accuracy: 0.6979 - metrics_recall: 0.0945 - metrics_precision: 0.5277 - metrics_f1: 0.1440 - val_loss: 0.5936 - val_accuracy: 0.6874 - val_metrics_recall: 0.3533 - val_metrics_precision: 1.0000 - val_metrics_f1: 0.5174\n",
            "Epoch 11/30\n",
            "91/91 [==============================] - 8s 91ms/step - loss: 0.4636 - accuracy: 0.7669 - metrics_recall: 0.3424 - metrics_precision: 1.0000 - metrics_f1: 0.4961 - val_loss: 0.5697 - val_accuracy: 0.6973 - val_metrics_recall: 0.2321 - val_metrics_precision: 1.0000 - val_metrics_f1: 0.3696\n",
            "Epoch 12/30\n",
            "91/91 [==============================] - 8s 91ms/step - loss: 0.4586 - accuracy: 0.7801 - metrics_recall: 0.2843 - metrics_precision: 1.0000 - metrics_f1: 0.4311 - val_loss: 0.6196 - val_accuracy: 0.6996 - val_metrics_recall: 0.3040 - val_metrics_precision: 1.0000 - val_metrics_f1: 0.4560\n",
            "Epoch 13/30\n",
            "91/91 [==============================] - 8s 91ms/step - loss: 0.4060 - accuracy: 0.8208 - metrics_recall: 0.3514 - metrics_precision: 1.0000 - metrics_f1: 0.5114 - val_loss: 0.5483 - val_accuracy: 0.7129 - val_metrics_recall: 0.2073 - val_metrics_precision: 1.0000 - val_metrics_f1: 0.3382\n",
            "Epoch 14/30\n",
            "91/91 [==============================] - 8s 92ms/step - loss: 0.3959 - accuracy: 0.8243 - metrics_recall: 0.3056 - metrics_precision: 1.0000 - metrics_f1: 0.4589 - val_loss: 0.5693 - val_accuracy: 0.7118 - val_metrics_recall: 0.2611 - val_metrics_precision: 1.0000 - val_metrics_f1: 0.4069\n",
            "Epoch 15/30\n",
            "91/91 [==============================] - 8s 93ms/step - loss: 0.3470 - accuracy: 0.8586 - metrics_recall: 0.3503 - metrics_precision: 1.0000 - metrics_f1: 0.5122 - val_loss: 0.6945 - val_accuracy: 0.6818 - val_metrics_recall: 0.4096 - val_metrics_precision: 1.0000 - val_metrics_f1: 0.5762\n",
            "Epoch 16/30\n",
            "91/91 [==============================] - 8s 93ms/step - loss: 0.3213 - accuracy: 0.8610 - metrics_recall: 0.3440 - metrics_precision: 1.0000 - metrics_f1: 0.4992 - val_loss: 0.6372 - val_accuracy: 0.7073 - val_metrics_recall: 0.3250 - val_metrics_precision: 1.0000 - val_metrics_f1: 0.4840\n",
            "Epoch 17/30\n",
            "91/91 [==============================] - 8s 93ms/step - loss: 0.2788 - accuracy: 0.8850 - metrics_recall: 0.3525 - metrics_precision: 1.0000 - metrics_f1: 0.5145 - val_loss: 0.7726 - val_accuracy: 0.6951 - val_metrics_recall: 0.2991 - val_metrics_precision: 1.0000 - val_metrics_f1: 0.4545\n",
            "Epoch 18/30\n",
            "91/91 [==============================] - 8s 92ms/step - loss: 0.2666 - accuracy: 0.8948 - metrics_recall: 0.3366 - metrics_precision: 1.0000 - metrics_f1: 0.4961 - val_loss: 0.7830 - val_accuracy: 0.6596 - val_metrics_recall: 0.4818 - val_metrics_precision: 1.0000 - val_metrics_f1: 0.6462\n",
            "Epoch 19/30\n",
            "91/91 [==============================] - 9s 94ms/step - loss: 0.2286 - accuracy: 0.9078 - metrics_recall: 0.3824 - metrics_precision: 1.0000 - metrics_f1: 0.5455 - val_loss: 0.8570 - val_accuracy: 0.6851 - val_metrics_recall: 0.3607 - val_metrics_precision: 1.0000 - val_metrics_f1: 0.5258\n",
            "Epoch 20/30\n",
            "91/91 [==============================] - 8s 92ms/step - loss: 0.1737 - accuracy: 0.9424 - metrics_recall: 0.3381 - metrics_precision: 1.0000 - metrics_f1: 0.4978 - val_loss: 0.9792 - val_accuracy: 0.6973 - val_metrics_recall: 0.2691 - val_metrics_precision: 1.0000 - val_metrics_f1: 0.4190\n",
            "Epoch 21/30\n",
            "91/91 [==============================] - 8s 93ms/step - loss: 0.1704 - accuracy: 0.9408 - metrics_recall: 0.3395 - metrics_precision: 1.0000 - metrics_f1: 0.5014 - val_loss: 0.9955 - val_accuracy: 0.7040 - val_metrics_recall: 0.2895 - val_metrics_precision: 1.0000 - val_metrics_f1: 0.4460\n",
            "Epoch 22/30\n",
            "91/91 [==============================] - 9s 94ms/step - loss: 0.1525 - accuracy: 0.9481 - metrics_recall: 0.3275 - metrics_precision: 1.0000 - metrics_f1: 0.4861 - val_loss: 0.8745 - val_accuracy: 0.6552 - val_metrics_recall: 0.4243 - val_metrics_precision: 1.0000 - val_metrics_f1: 0.5922\n",
            "Epoch 23/30\n",
            "91/91 [==============================] - 9s 94ms/step - loss: 0.1170 - accuracy: 0.9677 - metrics_recall: 0.3565 - metrics_precision: 1.0000 - metrics_f1: 0.5214 - val_loss: 1.0408 - val_accuracy: 0.6707 - val_metrics_recall: 0.4257 - val_metrics_precision: 1.0000 - val_metrics_f1: 0.5923\n",
            "Epoch 24/30\n",
            "91/91 [==============================] - 8s 93ms/step - loss: 0.1628 - accuracy: 0.9478 - metrics_recall: 0.3483 - metrics_precision: 1.0000 - metrics_f1: 0.5112 - val_loss: 1.0478 - val_accuracy: 0.6940 - val_metrics_recall: 0.3455 - val_metrics_precision: 1.0000 - val_metrics_f1: 0.5088\n",
            "Epoch 25/30\n",
            "91/91 [==============================] - 8s 93ms/step - loss: 0.1030 - accuracy: 0.9724 - metrics_recall: 0.3456 - metrics_precision: 1.0000 - metrics_f1: 0.5093 - val_loss: 1.0583 - val_accuracy: 0.7129 - val_metrics_recall: 0.2743 - val_metrics_precision: 1.0000 - val_metrics_f1: 0.4256\n",
            "Epoch 26/30\n",
            "91/91 [==============================] - 8s 93ms/step - loss: 0.0691 - accuracy: 0.9820 - metrics_recall: 0.3346 - metrics_precision: 0.9998 - metrics_f1: 0.4966 - val_loss: 1.1842 - val_accuracy: 0.7007 - val_metrics_recall: 0.2993 - val_metrics_precision: 1.0000 - val_metrics_f1: 0.4568\n",
            "Epoch 27/30\n",
            "91/91 [==============================] - 8s 93ms/step - loss: 0.0925 - accuracy: 0.9759 - metrics_recall: 0.3309 - metrics_precision: 1.0000 - metrics_f1: 0.4938 - val_loss: 1.1972 - val_accuracy: 0.7084 - val_metrics_recall: 0.3022 - val_metrics_precision: 1.0000 - val_metrics_f1: 0.4577\n",
            "Epoch 28/30\n",
            "91/91 [==============================] - 9s 94ms/step - loss: 0.0595 - accuracy: 0.9854 - metrics_recall: 0.3331 - metrics_precision: 1.0000 - metrics_f1: 0.4941 - val_loss: 1.3400 - val_accuracy: 0.6729 - val_metrics_recall: 0.4166 - val_metrics_precision: 1.0000 - val_metrics_f1: 0.5826\n",
            "Epoch 29/30\n",
            "91/91 [==============================] - 8s 93ms/step - loss: 0.0967 - accuracy: 0.9733 - metrics_recall: 0.3231 - metrics_precision: 1.0000 - metrics_f1: 0.4837 - val_loss: 1.3812 - val_accuracy: 0.7106 - val_metrics_recall: 0.2799 - val_metrics_precision: 1.0000 - val_metrics_f1: 0.4332\n",
            "Epoch 30/30\n",
            "91/91 [==============================] - 9s 94ms/step - loss: 0.0807 - accuracy: 0.9788 - metrics_recall: 0.3417 - metrics_precision: 1.0000 - metrics_f1: 0.5041 - val_loss: 1.2642 - val_accuracy: 0.6840 - val_metrics_recall: 0.3757 - val_metrics_precision: 1.0000 - val_metrics_f1: 0.5407\n"
          ],
          "name": "stdout"
        },
        {
          "output_type": "execute_result",
          "data": {
            "text/plain": [
              "<tensorflow.python.keras.callbacks.History at 0x7f978ad6b890>"
            ]
          },
          "metadata": {
            "tags": []
          },
          "execution_count": 21
        }
      ]
    },
    {
      "cell_type": "markdown",
      "metadata": {
        "id": "ivX4zB4WNd7T"
      },
      "source": [
        ""
      ]
    },
    {
      "cell_type": "code",
      "metadata": {
        "id": "mOgPSige2PSk"
      },
      "source": [
        "#%tensorboard --logdir {logs_base_dir}"
      ],
      "execution_count": 22,
      "outputs": []
    },
    {
      "cell_type": "code",
      "metadata": {
        "id": "gATYCGKxZUrH"
      },
      "source": [
        "#from tensorboard import notebook\n",
        "#notebook.list()"
      ],
      "execution_count": 23,
      "outputs": []
    },
    {
      "cell_type": "code",
      "metadata": {
        "id": "RRzyrHJ5ZYPZ"
      },
      "source": [
        "#notebook.display(port=6006, height=1000) \n"
      ],
      "execution_count": 24,
      "outputs": []
    },
    {
      "cell_type": "code",
      "metadata": {
        "id": "tTGNmRTIYEhq"
      },
      "source": [
        "#!pip install tensorboardcolab\n",
        "#from tensorboardcolab import TensorBoardColab, TensorBoardColabCallback\n",
        "\n",
        "#tbc=TensorBoardColab()"
      ],
      "execution_count": 25,
      "outputs": []
    },
    {
      "cell_type": "code",
      "metadata": {
        "id": "Iaakc1HMuHOI",
        "colab": {
          "base_uri": "https://localhost:8080/"
        },
        "outputId": "3f33cc34-17fa-4631-e643-8423aeee0674"
      },
      "source": [
        "(loss,accuracy, metrics_recall, metrics_precision,\n",
        "metrics_f1) = LSTM16052111.evaluate(nppadded_testing, nptesting_labels, verbose=1)"
      ],
      "execution_count": 26,
      "outputs": [
        {
          "output_type": "stream",
          "text": [
            "111/111 [==============================] - 3s 26ms/step - loss: 1.3803 - accuracy: 0.6569 - metrics_recall: 0.3638 - metrics_precision: 1.0000 - metrics_f1: 0.5270\n"
          ],
          "name": "stdout"
        }
      ]
    },
    {
      "cell_type": "code",
      "metadata": {
        "id": "nzjc-rMEuL16"
      },
      "source": [
        "LSTM_predict11 = LSTM16052111.predict(x=nppadded_testing)"
      ],
      "execution_count": 27,
      "outputs": []
    },
    {
      "cell_type": "code",
      "metadata": {
        "id": "Qd_WGzTuMuYX"
      },
      "source": [
        "#for p in LSTM_predict11:\n",
        " # print(p)"
      ],
      "execution_count": 28,
      "outputs": []
    },
    {
      "cell_type": "code",
      "metadata": {
        "id": "PluuAMv2MxlW"
      },
      "source": [
        "prediction_rounded11 = np.round(LSTM_predict11)\n",
        "\n",
        "#for p in prediction_rounded11:\n",
        " # print(p)\n",
        "\n",
        "\n",
        "#print(nptesting_labels[200:210])"
      ],
      "execution_count": 29,
      "outputs": []
    },
    {
      "cell_type": "code",
      "metadata": {
        "id": "tTlZpSlfZRGt"
      },
      "source": [
        "#print(testing_labels[10:16])\n",
        "#print(statementsForTesting[4:7])"
      ],
      "execution_count": 30,
      "outputs": []
    },
    {
      "cell_type": "markdown",
      "metadata": {
        "id": "rfW_WcDlWsZv"
      },
      "source": [
        "https://deeplizard.com/learn/video/km7pxKy4UHU\n",
        "\n",
        "Quelle der def plot_confusion_matrix: https://scikit-learn.org/stable/auto_examples/model_selection/plot_confusion_matrix.html#sphx-glr-auto-examples-model-selection-plot-confusion-matrix-py "
      ]
    },
    {
      "cell_type": "code",
      "metadata": {
        "id": "TZjt-y0-WrPZ"
      },
      "source": [
        "from sklearn.metrics import confusion_matrix\n",
        "import itertools\n",
        "import matplotlib.pyplot as plt"
      ],
      "execution_count": 31,
      "outputs": []
    },
    {
      "cell_type": "code",
      "metadata": {
        "id": "A5RUaFEcXmYc"
      },
      "source": [
        "def plot_confusion_matrix(cm, classes,\n",
        "                        normalize=False,\n",
        "                        title='Confusion matrix',\n",
        "                        cmap=plt.cm.Blues):\n",
        "    \"\"\"\n",
        "    This function prints and plots the confusion matrix.\n",
        "    Normalization can be applied by setting `normalize=True`.\n",
        "    \"\"\"\n",
        "    plt.imshow(cm, interpolation='nearest', cmap=cmap)\n",
        "    plt.title(title)\n",
        "    plt.colorbar()\n",
        "    tick_marks = np.arange(len(classes))\n",
        "    plt.xticks(tick_marks, classes, rotation=45)\n",
        "    plt.yticks(tick_marks, classes)\n",
        "\n",
        "    if normalize:\n",
        "        cm = cm.astype('float') / cm.sum(axis=1)[:, np.newaxis]\n",
        "        print(\"Normalized confusion matrix\")\n",
        "    else:\n",
        "        print('Confusion matrix, without normalization')\n",
        "\n",
        "    print(cm)\n",
        "\n",
        "    thresh = cm.max() / 2.\n",
        "    for i, j in itertools.product(range(cm.shape[0]), range(cm.shape[1])):\n",
        "        plt.text(j, i, cm[i, j],\n",
        "            horizontalalignment=\"center\",\n",
        "            color=\"white\" if cm[i, j] > thresh else \"black\")\n",
        "\n",
        "    plt.tight_layout()\n",
        "    plt.ylabel('True label')\n",
        "    plt.xlabel('Predicted label')"
      ],
      "execution_count": 32,
      "outputs": []
    },
    {
      "cell_type": "code",
      "metadata": {
        "id": "4Mu7wle3Wr5S"
      },
      "source": [
        "cm = confusion_matrix(y_true=nptesting_labels, y_pred=prediction_rounded11)"
      ],
      "execution_count": 33,
      "outputs": []
    },
    {
      "cell_type": "code",
      "metadata": {
        "id": "QcIt6FU7Wr_q"
      },
      "source": [
        "plot_labels = ['no hatespeech','hatespeech']"
      ],
      "execution_count": 34,
      "outputs": []
    },
    {
      "cell_type": "code",
      "metadata": {
        "id": "X-K7cFJfWsGV",
        "colab": {
          "base_uri": "https://localhost:8080/",
          "height": 362
        },
        "outputId": "d2b7ca9f-a604-4122-8e6e-cae9dbad7d3d"
      },
      "source": [
        "plot_confusion_matrix(cm=cm, classes=plot_labels, title='LSTM Confusion 35')"
      ],
      "execution_count": 35,
      "outputs": [
        {
          "output_type": "stream",
          "text": [
            "Confusion matrix, without normalization\n",
            "[[1683  647]\n",
            " [ 565  637]]\n"
          ],
          "name": "stdout"
        },
        {
          "output_type": "display_data",
          "data": {
            "image/png": "[encoded data removed]",
            "text/plain": [
              "<Figure size 432x288 with 2 Axes>"
            ]
          },
          "metadata": {
            "tags": [],
            "needs_background": "light"
          }
        }
      ]
    }
  ]
}