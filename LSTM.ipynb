{
  "nbformat": 4,
  "nbformat_minor": 0,
  "metadata": {
    "colab": {
      "name": "LSTM.ipynb",
      "provenance": [],
      "collapsed_sections": [],
      "authorship_tag": "ABX9TyNGF4ArrPMzD00KHinFuDqQ",
      "include_colab_link": true
    },
    "kernelspec": {
      "name": "python3",
      "display_name": "Python 3"
    }
  },
  "cells": [
    {
      "cell_type": "markdown",
      "metadata": {
        "id": "view-in-github",
        "colab_type": "text"
      },
      "source": [
        "<a href=\"https://colab.research.google.com/github/BiancaStadl/ProjektarbeitML/blob/main/LSTM.ipynb\" target=\"_parent\"><img src=\"https://colab.research.google.com/assets/colab-badge.svg\" alt=\"Open In Colab\"/></a>"
      ]
    },
    {
      "cell_type": "markdown",
      "metadata": {
        "id": "r7k0zcJoyD3R"
      },
      "source": [
        "GloVe embeddings taken from:\n",
        "\n",
        "Jeffrey Pennington, Richard Socher, and Christopher D. Manning. 2014. GloVe: Global Vectors for Word Representation. [pdf] [bib]\n",
        "\n",
        "hatespeechdata taken from (https://hatespeechdata.com/): Wiegand, M., Siegel, M. and Ruppenhofer, J., 2018. Overview of the GermEval 2018 Shared Task on the Identification of Offensive Language. In: Proceedings of GermEval 2018, 14th Conference on Natural Language Processing (KONVENS 2018). Vienna, Austria: Research Gate. available on: https://github.com/uds-lsv/GermEval-2018-Data (last checked: 09.05.2021)"
      ]
    },
    {
      "cell_type": "code",
      "metadata": {
        "id": "p3xfitNdliBI"
      },
      "source": [
        "#import matplotlib.pyplot as plt -> für evtl Visualisierungen\n",
        "import os\n",
        "import re\n",
        "import shutil\n",
        "import string\n",
        "import tensorflow as tf\n",
        "import numpy as np\n",
        "from keras import losses\n",
        "from tensorflow import keras \n",
        "from keras import optimizers \n",
        "from keras import metrics \n",
        "\n",
        "#!pip install Tokenizer\n",
        "from keras.preprocessing.text import Tokenizer\n",
        "#!pip install pad_sequences\n",
        "from tensorflow.keras.preprocessing.sequence import pad_sequences\n",
        "from tensorflow.keras import layers\n",
        "from tensorflow.keras import losses\n",
        "from tensorflow.keras import preprocessing\n",
        "#from tensorflow.keras.layers.experimental.preprocessing import TextVectorization\n"
      ],
      "execution_count": 2,
      "outputs": []
    },
    {
      "cell_type": "markdown",
      "metadata": {
        "id": "JTWJQ1iga_vS"
      },
      "source": [
        "Einige Parameter für das Netz setzen.. https://becominghuman.ai/creating-your-own-neural-network-using-tensorflow-fa8ca7cc4d0e "
      ]
    },
    {
      "cell_type": "code",
      "metadata": {
        "id": "Bq08Me5la_Cc"
      },
      "source": [
        "max_length = 60"
      ],
      "execution_count": 3,
      "outputs": []
    },
    {
      "cell_type": "code",
      "metadata": {
        "id": "JVYBMvYSotTH"
      },
      "source": [
        "url = \"https://github.com/uds-lsv/GermEval-2018-Data/archive/master.zip\"\n",
        "\n",
        "dataset = tf.keras.utils.get_file(\"GermEval-2018-Data-master.zip\", url, \n",
        "                                   extract=True, cache_dir='.',\n",
        "                                    cache_subdir='')\n",
        "\n",
        "dataset_dir = os.path.join(os.path.dirname(dataset), 'GermEval-2018-Data-master')\n"
      ],
      "execution_count": 4,
      "outputs": []
    },
    {
      "cell_type": "code",
      "metadata": {
        "id": "cS14OUtfo34V"
      },
      "source": [
        "#os.listdir(dataset_dir)"
      ],
      "execution_count": 5,
      "outputs": []
    },
    {
      "cell_type": "code",
      "metadata": {
        "id": "2X429K6hpOVm"
      },
      "source": [
        "training_file = os.path.join(dataset_dir, 'germeval2018.training.txt')\n",
        "#with open(training_file) as f:\n",
        " # print(f.read())\n",
        "\n",
        "#print()\n",
        "\n",
        "testing_file = os.path.join(dataset_dir, 'germeval2018.test.txt')\n"
      ],
      "execution_count": 6,
      "outputs": []
    },
    {
      "cell_type": "code",
      "metadata": {
        "id": "iRqhP_Fx0cK3"
      },
      "source": [
        "def remove_clutter(string):\n",
        "   string = re.sub(\"@[^\\s]+\",\" \",string)\n",
        "   string = re.sub(\"#[^\\s]+\",\" \", string)\n",
        "   string = re.sub(\"\\u00a9\",\" \", string)\n",
        "   string = re.sub(\"\\u00ae\",\" \", string)\n",
        "   string = re.sub(\"[\\u2000-\\u3300]\",\" \", string)\n",
        "   string = re.sub(\"\\ud83c[\\ud000-\\udfff]\",\" \", string)\n",
        "   string = re.sub(\"\\ud83d[\\ud000-\\udfff]\",\" \", string)\n",
        "   string = re.sub(\"\\ud83e[\\ud000-\\udfff]\",\" \", string)\n",
        "   string = re.sub(\"😜\", \" \",string)\n",
        "   string = re.sub(\"🍫\", \" \",string)\n",
        "   string = re.sub(\"😁\", \" \",string)\n",
        "   string = re.sub(\"🐖\", \" \",string)\n",
        "   string = re.sub(\"😡\", \" \",string)\n",
        "   string = re.sub(\"😇\", \" \",string)\n",
        "   string = re.sub(\"😬\", \" \",string)\n",
        "   string = re.sub(\"😃\", \" \",string)\n",
        "   string = re.sub(\"😂\", \" \",string)\n",
        "   string = re.sub(\"💙\", \" \",string)  \n",
        "   string = re.sub(\"😛\", \" \",string)\n",
        "   string = re.sub(\"🙏\", \" \",string)\n",
        "   string = re.sub(\"👍\", \" \",string)\n",
        "   string = re.sub(\"🖕\", \" \",string)\n",
        "   string = re.sub(\"😉\", \" \",string)\n",
        "   string = re.sub(\"💩\", \" \",string)\n",
        "   string = re.sub(\"🤢\", \" \",string)\n",
        "   string = re.sub(\"👏\", \" \",string)\n",
        "   string = re.sub(\"😨\", \" \",string)\n",
        "   string = re.sub(\"🤣\", \" \",string)\n",
        "   string = re.sub(\"🤡\", \" \",string)\n",
        "   string = re.sub(\"😈\", \" \",string)\n",
        "   string = re.sub(\"💃🏽\", \" \",string)\n",
        "   string = re.sub(\"👹\", \" \",string)\n",
        "   string = re.sub(\"🤘\", \" \",string)\n",
        "   string = re.sub(\"😱\", \" \",string)\n",
        "   string = re.sub(\"🤔\", \" \",string) \n",
        "   string = re.sub(\"🌈\", \" \",string) \n",
        "   string = re.sub(\"💕\", \" \",string) \n",
        "   string = re.sub(\"👩‍❤️‍👩\", \" \",string) \n",
        "   string = re.sub(\"😍\", \" \",string) \n",
        "   string = re.sub(\"👆\", \" \",string) \n",
        "   string = re.sub(\"😖\", \" \",string) \n",
        "   string = re.sub(\"👇\", \" \",string) \n",
        "   string = re.sub(\"🔥\", \" \",string) \n",
        "   string = re.sub(\"😘\", \" \",string) \n",
        "   string = re.sub(\"🎉\", \" \",string) \n",
        "   string = re.sub(\"🤬\", \" \",string) \n",
        "   string = re.sub(\"👊\", \" \",string)\n",
        "   string = re.sub(\"🇩🇪\", \" \",string)  \n",
        "   string = re.sub(\"💔\", \" \",string)\n",
        "   string = re.sub(\"🙈\", \" \",string)\n",
        "   string = re.sub(\"🤯\", \" \",string)\n",
        "   string = re.sub(\"🐟\", \" \",string)\n",
        "   string = re.sub(\"🛶\", \" \",string)\n",
        "   string = re.sub(\"😊\", \" \",string)\n",
        "   string = re.sub(\"😓\", \" \",string)\n",
        "   string = re.sub(\"😳\", \" \",string)\n",
        "   string = re.sub(\"🚀\", \" \",string)\n",
        "   string = re.sub(\"👎\", \" \",string)\n",
        "   string = re.sub(\"😎\", \" \",string)\n",
        "   string = re.sub(\"🐸\", \" \",string)\n",
        "   string = re.sub(\"📈\", \" \",string)\n",
        "   string = re.sub(\"🙂\", \" \",string)\n",
        "   string = re.sub(\"😅\", \" \",string)\n",
        "   string = re.sub(\"😆\", \" \",string)\n",
        "   string = re.sub(\"🙎🏿\", \" \",string)\n",
        "   string = re.sub(\"👎🏽\", \" \",string)\n",
        "   string = re.sub(\"🤭\", \" \",string)\n",
        "   string = re.sub(\"😤\", \" \",string)\n",
        "   string = re.sub(\"😚\", \" \",string)\n",
        "   string = re.sub(\"😊\", \" \",string)\n",
        "   string = re.sub(\"😲\", \" \",string)\n",
        "   string = re.sub(\"🤮\", \" \",string)\n",
        "   string = re.sub(\"🙄\", \" \",string)\n",
        "   string = re.sub(\"🤑\", \" \",string)\n",
        "   string = re.sub(\"🎅\", \" \",string)\n",
        "   string = re.sub(\"👋\", \" \",string)\n",
        "   string = re.sub(\"💪\", \" \",string)\n",
        "   string = re.sub(\"😄\", \" \",string)\n",
        "   string = re.sub(\"🧐\", \" \",string)\n",
        "   string = re.sub(\"😠\", \" \",string)\n",
        "   string = re.sub(\"🎈\", \" \",string)\n",
        "   string = re.sub(\"🚂\", \" \",string)\n",
        "   string = re.sub(\"😊\", \" \",string)\n",
        "   string = re.sub(\"🚇\", \" \",string)\n",
        "   string = re.sub(\"🚊\", \" \",string)\n",
        "   string = re.sub(\"🤷\", \" \",string)\n",
        "   string = re.sub(\"😥\", \" \",string)\n",
        "   string = re.sub(\"🙃\", \" \",string)\n",
        "   string = re.sub(\"🔩\", \" \",string)\n",
        "   string = re.sub(\"🔧\", \" \",string)\n",
        "   string = re.sub(\"🔨\", \" \",string)\n",
        "   string = re.sub(\"🛠\", \" \",string)\n",
        "   string = re.sub(\"💓\", \" \",string)\n",
        "   string = re.sub(\"💡\", \" \",string)\n",
        "   string = re.sub(\"🍸\", \" \",string)\n",
        "   string = re.sub(\"🥃\", \" \",string)\n",
        "   string = re.sub(\"🥂\", \" \",string)\n",
        "   string = re.sub(\"😷\", \" \",string)\n",
        "   string = re.sub(\"🤐\", \" \",string)\n",
        "   string = re.sub(\"🌎\", \" \",string)\n",
        "   string = re.sub(\"👑\", \" \",string)\n",
        "   string = re.sub(\"🤛\", \" \",string)\n",
        "   string = re.sub(\"😀\", \" \",string)\n",
        "   string = re.sub(\"🛤\", \" \",string)\n",
        "   string = re.sub(\"🎄\", \" \",string)\n",
        "   string = re.sub(\"📴\", \" \",string)\n",
        "   string = re.sub(\"🌭\", \" \",string)\n",
        "   string = re.sub(\"🤕\", \" \",string)\n",
        "   string = re.sub(\"😭\", \" \",string)\n",
        "   string = re.sub(\"🍾\", \" \",string)\n",
        "   string = re.sub(\"🍞\", \" \",string)\n",
        "   string = re.sub(\"🤦\", \" \",string)\n",
        "   string = re.sub(\"🤯\", \" \",string)\n",
        "   string = re.sub(\"🕯️\", \" \",string)\n",
        "\n",
        "   string = re.sub(\"OTHER|OFFENSE|ABUSE|INSULT\",\" \",string)\n",
        "   return string"
      ],
      "execution_count": 7,
      "outputs": []
    },
    {
      "cell_type": "code",
      "metadata": {
        "id": "5asMgo4LtnRg"
      },
      "source": [
        "statementsForTraining = []\n",
        "sentimentsForTraining = []\n",
        "\n",
        "fileToRead = open(training_file, 'r')\n",
        "\n",
        "while True:\n",
        "  #next line in file\n",
        "  line = fileToRead.readline()\n",
        "\n",
        "  if line == \"\":\n",
        "   break\n",
        "\n",
        "  findSentiment = re.search(\"OTHER|OFFENSE\",line)\n",
        "\n",
        "  line = remove_clutter(line)\n",
        "      \n",
        "\n",
        "  statementsForTraining.append(line)\n",
        "\n",
        "   #sentimentsForTraining.append(findSentiment.group(0))\n",
        "\n",
        "  if findSentiment.group(0) == \"OTHER\":  \n",
        "    sentimentsForTraining.append(0)\n",
        "  else:\n",
        "    sentimentsForTraining.append(1)\n",
        "\n",
        "  if not line:\n",
        "    break\n",
        "\n",
        " #print(\"{}: {}\".format(count,line.strip()))\n",
        "  \n",
        " # print(sentiment.group(0))\n",
        " \n",
        "fileToRead.close()\n",
        "\n",
        "training_sentences = statementsForTraining\n",
        "training_labels = sentimentsForTraining\n",
        "\n",
        "#print(training_sentences[0:100])\n",
        "#print(training_labels[9])  "
      ],
      "execution_count": 8,
      "outputs": []
    },
    {
      "cell_type": "code",
      "metadata": {
        "id": "VsqZPENb98gD"
      },
      "source": [
        "\n",
        "statementsForTesting = []\n",
        "sentimentsForTesting = []\n",
        "\n",
        "fileToRead = open(testing_file, 'r')\n",
        "\n",
        "while True:\n",
        " \n",
        "  line = fileToRead.readline()\n",
        "\n",
        "  if line == \"\":\n",
        "   break\n",
        "\n",
        "  sent = re.search(\"OTHER|OFFENSE\",line)\n",
        "\n",
        "  line = remove_clutter(line)\n",
        "\n",
        "\n",
        "  statementsForTesting.append(line)\n",
        "  #print(len(line))\n",
        "  #sentimentsForTesting.append(sent.group(0))\n",
        "\n",
        "  if sent.group(0) == \"OTHER\": \n",
        "    sentimentsForTesting.append(0)\n",
        "  else:\n",
        "    sentimentsForTesting.append(1)\n",
        "\n",
        "  if not line:\n",
        "    break\n",
        "\n",
        "\n",
        "fileToRead.close()\n",
        "\n",
        "\n",
        "testing_sentences = statementsForTesting\n",
        "testing_labels = sentimentsForTesting\n",
        "#print(len(testing_sentences))\n",
        "#print(testing_sentences)   \n",
        "#print(statementsForTesting)"
      ],
      "execution_count": 9,
      "outputs": []
    },
    {
      "cell_type": "code",
      "metadata": {
        "id": "W3hFi7waTv5m"
      },
      "source": [
        "tokenizer = Tokenizer(oov_token=\"OOV\")\n",
        "tokenizer.fit_on_texts(training_sentences)\n",
        "\n",
        "word_index = tokenizer.word_index\n",
        "validation_size = 500\n",
        "\n",
        "training_sequences = tokenizer.texts_to_sequences(training_sentences)\n",
        "padded_training = pad_sequences(training_sequences, maxlen=max_length, padding='post')\n",
        "\n",
        "#print(len(padded_training))\n",
        "\n",
        "validation_sequences = padded_training[0:validation_size]\n",
        "validation_labels = training_labels[0:validation_size]\n",
        "\n",
        "padded_training = padded_training[validation_size:]\n",
        "training_labels = training_labels[validation_size:]\n",
        "\n",
        "testing_sequences = tokenizer.texts_to_sequences(testing_sentences)\n",
        "padded_testing = pad_sequences(testing_sequences, maxlen=max_length, padding='post')\n",
        "\n",
        "#print(validation_sequences[499])\n",
        "#print(padded_training[0])\n",
        "#print(len(validation_labels))\n",
        "#print(len(training_labels))\n",
        "\n",
        "\n",
        "nppadded_training = np.array(padded_training)\n",
        "nptraining_labels = np.array(training_labels)\n",
        "\n",
        "nppadded_validation = np.array(validation_sequences)\n",
        "npvalidation_labels = np.array(validation_labels)\n",
        "\n",
        "nppadded_testing = np.array(padded_testing)\n",
        "nptesting_labels = np.array(testing_labels)\n",
        "\n"
      ],
      "execution_count": 10,
      "outputs": []
    },
    {
      "cell_type": "code",
      "metadata": {
        "colab": {
          "base_uri": "https://localhost:8080/"
        },
        "id": "klOlU-WKU1sL",
        "outputId": "55625aea-5bf1-4b27-aabc-1f42aaedec74"
      },
      "source": [
        "\n",
        "#print(statementsForTraining[2])\n",
        "\n",
        "print(validation_sequences[4])\n",
        "print(statementsForTraining[4])\n",
        "#print(nppadded_training.shape)\n",
        "\n",
        "#print(nptraining_labels[4])\n",
        "#print(nppadded_testing.shape)\n",
        "\n",
        "#print(word_index) "
      ],
      "execution_count": 11,
      "outputs": [
        {
          "output_type": "stream",
          "text": [
            "[  93 5784 5785 5786   66   14 5787  849   60 5788    8    2 3624    0\n",
            "    0    0    0    0    0    0    0    0    0    0    0    0    0    0\n",
            "    0    0    0    0    0    0    0    0    0    0    0    0    0    0\n",
            "    0    0    0    0    0    0    0    0    0    0    0    0    0    0\n",
            "    0    0    0    0]\n",
            "  kein verläßlicher Verhandlungspartner. Nachkarteln nach den Sondierzngsgesprächen - schickt diese Stümper   in die Versenkung.\t \t \n",
            "\n"
          ],
          "name": "stdout"
        }
      ]
    },
    {
      "cell_type": "code",
      "metadata": {
        "colab": {
          "base_uri": "https://localhost:8080/"
        },
        "id": "Lj8KEkavjm-D",
        "outputId": "c487b3dd-6cf1-40fb-8b06-f495f23e5c71"
      },
      "source": [
        "from google.colab import drive\n",
        "drive.mount(\"/content/drive\")\n",
        "#os.listdir(\"/content/drive/MyDrive/Colab Notebooks\")"
      ],
      "execution_count": 12,
      "outputs": [
        {
          "output_type": "stream",
          "text": [
            "Drive already mounted at /content/drive; to attempt to forcibly remount, call drive.mount(\"/content/drive\", force_remount=True).\n"
          ],
          "name": "stdout"
        }
      ]
    },
    {
      "cell_type": "code",
      "metadata": {
        "colab": {
          "base_uri": "https://localhost:8080/"
        },
        "id": "YB_6sr3_jhPK",
        "outputId": "4ffd38b8-4a4f-4b73-d15c-d96c27eb1473"
      },
      "source": [
        "#Größe Vokabel -> wordindex + 2 (weil padding + OOV) \n",
        "hits = 0\n",
        "misses = 0\n",
        "\n",
        "vocabulary_size = len(word_index)+2\n",
        "\n",
        "# dann erstell ich ein Wörterbuch mit Namen \"embedding_vector\", dort sind dann\n",
        "#die keys drinnen, die in glove-Datei drinnen sind mit dem entsprechenden Key\n",
        "\n",
        "embedding_index_glove = {}\n",
        "f = open('/content/drive/MyDrive/Colab Notebooks/glove.twitter.27B.200d.txt')\n",
        "for line in f:\n",
        "  value = line.split()\n",
        "  word = value[0]\n",
        "  coef = np.asarray(value[1:],dtype='float32')\n",
        "  embedding_index_glove[word] = coef\n",
        "\n",
        "print(\"%d gefunden: \"% len(embedding_index_glove))\n",
        "\n",
        "#Dann noch eine Embedding-Matrix erstellen\n",
        "#zweiter Wert = Embedding-Dimension der Datei, in dem Fall 200\n",
        "\n",
        "glove_matrix = np.zeros((vocabulary_size,200))\n",
        "for word, index in tokenizer.word_index.items():\n",
        "    embedding_value = embedding_index_glove.get(word)\n",
        "    if embedding_value is not None:\n",
        "      glove_matrix[index] = embedding_value\n",
        "      hits+=1\n",
        "    else:\n",
        "      misses+=1\n",
        "\n",
        "print(\"hits %d and %d misses\"%(hits,misses))"
      ],
      "execution_count": 13,
      "outputs": [
        {
          "output_type": "stream",
          "text": [
            "1193514 gefunden: \n",
            "hits 6747 and 8312 misses\n"
          ],
          "name": "stdout"
        }
      ]
    },
    {
      "cell_type": "code",
      "metadata": {
        "id": "ekXQeS2rqN01"
      },
      "source": [
        "from keras.layers import Dense, Dropout, Activation\n",
        "from keras.layers import Embedding, LSTM"
      ],
      "execution_count": 14,
      "outputs": []
    },
    {
      "cell_type": "code",
      "metadata": {
        "id": "G5qYC_xx_aTK"
      },
      "source": [
        "import keras.backend as K\n",
        "\n",
        "def metrics_recall(data_true, data_pred):\n",
        "    true_positives = K.sum(K.round(K.clip(data_true*data_pred,0,1)))\n",
        "    possible_positives = K.sum(K.round(K.clip(data_true,0,1)))\n",
        "\n",
        "    recall = true_positives / (possible_positives+K.epsilon())\n",
        "    return recall\n",
        "\n",
        "\n",
        "def metrics_precision(data_true, data_pred):\n",
        "    true_positives = K.sum(K.round(K.clip(data_true*data_pred,0,1)))\n",
        "\n",
        "    positives_predicted = K.sum(K.round(K.clip(data_pred,0,1)))\n",
        "    precision = true_positives / (positives_predicted+K.epsilon())\n",
        "    return precision\n",
        "\n",
        "\n",
        "def metrics_f1(data_true, data_pred):\n",
        "    precision_data = metrics_precision(data_true, data_pred)\n",
        "    recall_data = metrics_recall(data_true, data_pred)\n",
        "    return 2*(precision_data*recall_data)/(precision_data+recall_data+K.epsilon())"
      ],
      "execution_count": 15,
      "outputs": []
    },
    {
      "cell_type": "code",
      "metadata": {
        "id": "oFwXT1wypY_B"
      },
      "source": [
        "from tensorflow.keras.layers import Embedding\n",
        "#print(len(word_index))\n",
        "LSTM16052109 = tf.keras.Sequential()\n",
        "#LSTM16052109.add(tf.keras.layers.Embedding(input_dim=15132, output_dim=100, input_length=max_length))\n",
        "LSTM16052109.add(tf.keras.layers.Embedding(vocabulary_size, output_dim=200, input_length=60, embeddings_initializer = keras.initializers.Constant(glove_matrix), trainable= False))\n",
        "#LSTM16052109.add(tf.keras.layers.Conv1D(filters=10, kernel_size=3,activation='relu'))\n",
        "#LSTM16052109.add(tf.keras.layers.MaxPooling1D())\n",
        "LSTM16052109.add(tf.keras.layers.LSTM(15, activation=\"tanh\", recurrent_activation=\"sigmoid\", use_bias=True,return_sequences=True))\n",
        "#LSTM16052109.add(tf.keras.layers.GlobalMaxPooling1D())\n",
        "LSTM16052109.add(tf.keras.layers.LSTM(15))\n",
        "LSTM16052109.add(tf.keras.layers.Dropout(0.5))\n",
        "#LSTM16052109.add(tf.keras.layers.Dense(65,activation='relu'))\n",
        "#added 070521\n",
        "LSTM16052109.add(tf.keras.layers.Dense(1, activation='sigmoid'))\n",
        "\n"
      ],
      "execution_count": 16,
      "outputs": []
    },
    {
      "cell_type": "code",
      "metadata": {
        "colab": {
          "base_uri": "https://localhost:8080/"
        },
        "id": "7IuFfu-1LeDP",
        "outputId": "ec078d18-7a90-4326-ce01-be7bde43c9dd"
      },
      "source": [
        "LSTM16052109.compile(loss='binary_crossentropy', optimizer='adam',metrics=['accuracy',metrics_recall,metrics_precision,metrics_f1])\n",
        "print(LSTM16052109.summary())"
      ],
      "execution_count": 17,
      "outputs": [
        {
          "output_type": "stream",
          "text": [
            "Model: \"sequential\"\n",
            "_________________________________________________________________\n",
            "Layer (type)                 Output Shape              Param #   \n",
            "=================================================================\n",
            "embedding (Embedding)        (None, 60, 200)           3012200   \n",
            "_________________________________________________________________\n",
            "lstm (LSTM)                  (None, 60, 15)            12960     \n",
            "_________________________________________________________________\n",
            "lstm_1 (LSTM)                (None, 15)                1860      \n",
            "_________________________________________________________________\n",
            "dropout (Dropout)            (None, 15)                0         \n",
            "_________________________________________________________________\n",
            "dense (Dense)                (None, 1)                 16        \n",
            "=================================================================\n",
            "Total params: 3,027,036\n",
            "Trainable params: 14,836\n",
            "Non-trainable params: 3,012,200\n",
            "_________________________________________________________________\n",
            "None\n"
          ],
          "name": "stdout"
        }
      ]
    },
    {
      "cell_type": "code",
      "metadata": {
        "id": "fZ-OF4Y5ie4R"
      },
      "source": [
        "#LSTM16052109.layers[1].get_weights()[0].shape"
      ],
      "execution_count": 18,
      "outputs": []
    },
    {
      "cell_type": "code",
      "metadata": {
        "id": "NyEkmklD2S-n"
      },
      "source": [
        "#%load_ext tensorboard"
      ],
      "execution_count": 19,
      "outputs": []
    },
    {
      "cell_type": "code",
      "metadata": {
        "id": "cUICNHA62OJM"
      },
      "source": [
        "logs_base_dir = \"./logs\"\n",
        "callbackForTB = tf.keras.callbacks.TensorBoard(logs_base_dir)"
      ],
      "execution_count": 20,
      "outputs": []
    },
    {
      "cell_type": "code",
      "metadata": {
        "id": "v88JJEqj4Crv"
      },
      "source": [
        "training_epochs = 30\n",
        "batch_size = 40\n",
        "validation_split=0.2"
      ],
      "execution_count": 21,
      "outputs": []
    },
    {
      "cell_type": "code",
      "metadata": {
        "id": "weZe8g7urGGu",
        "colab": {
          "base_uri": "https://localhost:8080/"
        },
        "outputId": "898166b0-c790-4306-e70f-94f771bd1c91"
      },
      "source": [
        "LSTM16052109.fit(nppadded_training, nptraining_labels, batch_size=batch_size, epochs=training_epochs, validation_split=validation_split, callbacks=[callbackForTB])"
      ],
      "execution_count": 22,
      "outputs": [
        {
          "output_type": "stream",
          "text": [
            "Epoch 1/30\n",
            "91/91 [==============================] - 11s 71ms/step - loss: 0.6651 - accuracy: 0.6607 - metrics_recall: 0.0188 - metrics_precision: 0.0574 - metrics_f1: 0.0207 - val_loss: 0.6362 - val_accuracy: 0.6718 - val_metrics_recall: 0.0000e+00 - val_metrics_precision: 0.0000e+00 - val_metrics_f1: 0.0000e+00\n",
            "Epoch 2/30\n",
            "91/91 [==============================] - 5s 53ms/step - loss: 0.6356 - accuracy: 0.6719 - metrics_recall: 0.0036 - metrics_precision: 0.0420 - metrics_f1: 0.0067 - val_loss: 0.6261 - val_accuracy: 0.6729 - val_metrics_recall: 0.0076 - val_metrics_precision: 0.1304 - val_metrics_f1: 0.0143\n",
            "Epoch 3/30\n",
            "91/91 [==============================] - 5s 53ms/step - loss: 0.6359 - accuracy: 0.6754 - metrics_recall: 0.0181 - metrics_precision: 0.2226 - metrics_f1: 0.0334 - val_loss: 0.6365 - val_accuracy: 0.6718 - val_metrics_recall: 0.0000e+00 - val_metrics_precision: 0.0000e+00 - val_metrics_f1: 0.0000e+00\n",
            "Epoch 4/30\n",
            "91/91 [==============================] - 5s 55ms/step - loss: 0.6322 - accuracy: 0.6702 - metrics_recall: 0.0519 - metrics_precision: 0.2637 - metrics_f1: 0.0773 - val_loss: 0.5982 - val_accuracy: 0.6973 - val_metrics_recall: 0.2533 - val_metrics_precision: 0.5903 - val_metrics_f1: 0.3383\n",
            "Epoch 5/30\n",
            "91/91 [==============================] - 5s 54ms/step - loss: 0.5926 - accuracy: 0.7057 - metrics_recall: 0.3632 - metrics_precision: 0.6179 - metrics_f1: 0.4272 - val_loss: 0.6109 - val_accuracy: 0.7007 - val_metrics_recall: 0.1649 - val_metrics_precision: 0.6762 - val_metrics_f1: 0.2522\n",
            "Epoch 6/30\n",
            "91/91 [==============================] - 5s 54ms/step - loss: 0.5613 - accuracy: 0.7211 - metrics_recall: 0.4226 - metrics_precision: 0.7270 - metrics_f1: 0.4492 - val_loss: 0.5742 - val_accuracy: 0.7118 - val_metrics_recall: 0.3323 - val_metrics_precision: 0.6322 - val_metrics_f1: 0.4154\n",
            "Epoch 7/30\n",
            "91/91 [==============================] - 5s 54ms/step - loss: 0.5215 - accuracy: 0.7550 - metrics_recall: 0.4862 - metrics_precision: 0.6983 - metrics_f1: 0.5358 - val_loss: 0.5885 - val_accuracy: 0.6962 - val_metrics_recall: 0.5631 - val_metrics_precision: 0.5266 - val_metrics_f1: 0.5318\n",
            "Epoch 8/30\n",
            "91/91 [==============================] - 5s 55ms/step - loss: 0.4885 - accuracy: 0.7804 - metrics_recall: 0.6071 - metrics_precision: 0.7106 - metrics_f1: 0.6356 - val_loss: 0.5628 - val_accuracy: 0.7106 - val_metrics_recall: 0.3761 - val_metrics_precision: 0.5694 - val_metrics_f1: 0.4421\n",
            "Epoch 9/30\n",
            "91/91 [==============================] - 5s 54ms/step - loss: 0.4875 - accuracy: 0.7830 - metrics_recall: 0.5879 - metrics_precision: 0.7516 - metrics_f1: 0.6237 - val_loss: 0.5771 - val_accuracy: 0.7040 - val_metrics_recall: 0.4649 - val_metrics_precision: 0.5423 - val_metrics_f1: 0.4879\n",
            "Epoch 10/30\n",
            "91/91 [==============================] - 5s 56ms/step - loss: 0.4587 - accuracy: 0.8094 - metrics_recall: 0.6744 - metrics_precision: 0.7405 - metrics_f1: 0.6847 - val_loss: 0.6003 - val_accuracy: 0.6984 - val_metrics_recall: 0.5357 - val_metrics_precision: 0.5341 - val_metrics_f1: 0.5229\n",
            "Epoch 11/30\n",
            "91/91 [==============================] - 5s 53ms/step - loss: 0.4244 - accuracy: 0.8234 - metrics_recall: 0.7045 - metrics_precision: 0.7821 - metrics_f1: 0.7272 - val_loss: 0.5916 - val_accuracy: 0.6896 - val_metrics_recall: 0.5739 - val_metrics_precision: 0.5177 - val_metrics_f1: 0.5320\n",
            "Epoch 12/30\n",
            "91/91 [==============================] - 5s 60ms/step - loss: 0.4057 - accuracy: 0.8394 - metrics_recall: 0.7436 - metrics_precision: 0.7778 - metrics_f1: 0.7480 - val_loss: 0.6021 - val_accuracy: 0.7129 - val_metrics_recall: 0.4374 - val_metrics_precision: 0.5794 - val_metrics_f1: 0.4840\n",
            "Epoch 13/30\n",
            "91/91 [==============================] - 7s 76ms/step - loss: 0.3889 - accuracy: 0.8444 - metrics_recall: 0.7635 - metrics_precision: 0.7967 - metrics_f1: 0.7656 - val_loss: 0.6252 - val_accuracy: 0.7284 - val_metrics_recall: 0.4341 - val_metrics_precision: 0.6092 - val_metrics_f1: 0.4893\n",
            "Epoch 14/30\n",
            "91/91 [==============================] - 8s 92ms/step - loss: 0.3829 - accuracy: 0.8557 - metrics_recall: 0.7648 - metrics_precision: 0.8129 - metrics_f1: 0.7760 - val_loss: 0.5985 - val_accuracy: 0.7095 - val_metrics_recall: 0.5253 - val_metrics_precision: 0.5566 - val_metrics_f1: 0.5290\n",
            "Epoch 15/30\n",
            "91/91 [==============================] - 8s 88ms/step - loss: 0.3645 - accuracy: 0.8622 - metrics_recall: 0.7836 - metrics_precision: 0.8060 - metrics_f1: 0.7778 - val_loss: 0.6210 - val_accuracy: 0.7273 - val_metrics_recall: 0.3167 - val_metrics_precision: 0.6903 - val_metrics_f1: 0.4226\n",
            "Epoch 16/30\n",
            "91/91 [==============================] - 5s 58ms/step - loss: 0.3583 - accuracy: 0.8630 - metrics_recall: 0.7556 - metrics_precision: 0.8458 - metrics_f1: 0.7681 - val_loss: 0.6832 - val_accuracy: 0.7118 - val_metrics_recall: 0.5080 - val_metrics_precision: 0.5585 - val_metrics_f1: 0.5210\n",
            "Epoch 17/30\n",
            "91/91 [==============================] - 5s 57ms/step - loss: 0.3244 - accuracy: 0.8871 - metrics_recall: 0.8250 - metrics_precision: 0.8502 - metrics_f1: 0.8242 - val_loss: 0.7666 - val_accuracy: 0.6829 - val_metrics_recall: 0.6306 - val_metrics_precision: 0.5082 - val_metrics_f1: 0.5524\n",
            "Epoch 18/30\n",
            "91/91 [==============================] - 5s 58ms/step - loss: 0.3217 - accuracy: 0.8848 - metrics_recall: 0.8430 - metrics_precision: 0.8306 - metrics_f1: 0.8213 - val_loss: 0.7819 - val_accuracy: 0.6763 - val_metrics_recall: 0.6456 - val_metrics_precision: 0.5042 - val_metrics_f1: 0.5537\n",
            "Epoch 19/30\n",
            "91/91 [==============================] - 5s 58ms/step - loss: 0.2756 - accuracy: 0.9130 - metrics_recall: 0.8713 - metrics_precision: 0.8785 - metrics_f1: 0.8664 - val_loss: 0.7408 - val_accuracy: 0.6818 - val_metrics_recall: 0.6128 - val_metrics_precision: 0.5088 - val_metrics_f1: 0.5450\n",
            "Epoch 20/30\n",
            "91/91 [==============================] - 5s 57ms/step - loss: 0.2557 - accuracy: 0.9272 - metrics_recall: 0.8968 - metrics_precision: 0.8892 - metrics_f1: 0.8888 - val_loss: 0.7879 - val_accuracy: 0.6996 - val_metrics_recall: 0.5276 - val_metrics_precision: 0.5365 - val_metrics_f1: 0.5191\n",
            "Epoch 21/30\n",
            "91/91 [==============================] - 5s 55ms/step - loss: 0.2464 - accuracy: 0.9256 - metrics_recall: 0.8869 - metrics_precision: 0.8970 - metrics_f1: 0.8871 - val_loss: 0.8562 - val_accuracy: 0.6973 - val_metrics_recall: 0.5540 - val_metrics_precision: 0.5372 - val_metrics_f1: 0.5307\n",
            "Epoch 22/30\n",
            "91/91 [==============================] - 5s 59ms/step - loss: 0.2515 - accuracy: 0.9271 - metrics_recall: 0.8879 - metrics_precision: 0.8976 - metrics_f1: 0.8877 - val_loss: 0.7971 - val_accuracy: 0.6840 - val_metrics_recall: 0.6394 - val_metrics_precision: 0.5154 - val_metrics_f1: 0.5587\n",
            "Epoch 23/30\n",
            "91/91 [==============================] - 5s 59ms/step - loss: 0.2718 - accuracy: 0.9189 - metrics_recall: 0.8699 - metrics_precision: 0.9025 - metrics_f1: 0.8777 - val_loss: 0.7846 - val_accuracy: 0.6940 - val_metrics_recall: 0.5486 - val_metrics_precision: 0.5341 - val_metrics_f1: 0.5263\n",
            "Epoch 24/30\n",
            "91/91 [==============================] - 5s 57ms/step - loss: 0.2366 - accuracy: 0.9290 - metrics_recall: 0.8796 - metrics_precision: 0.9126 - metrics_f1: 0.8906 - val_loss: 0.8035 - val_accuracy: 0.7007 - val_metrics_recall: 0.5374 - val_metrics_precision: 0.5393 - val_metrics_f1: 0.5238\n",
            "Epoch 25/30\n",
            "91/91 [==============================] - 5s 58ms/step - loss: 0.2317 - accuracy: 0.9320 - metrics_recall: 0.9130 - metrics_precision: 0.8975 - metrics_f1: 0.9002 - val_loss: 0.8540 - val_accuracy: 0.6829 - val_metrics_recall: 0.6097 - val_metrics_precision: 0.5080 - val_metrics_f1: 0.5432\n",
            "Epoch 26/30\n",
            "91/91 [==============================] - 5s 57ms/step - loss: 0.2203 - accuracy: 0.9403 - metrics_recall: 0.9160 - metrics_precision: 0.9052 - metrics_f1: 0.9073 - val_loss: 0.8585 - val_accuracy: 0.7118 - val_metrics_recall: 0.4776 - val_metrics_precision: 0.5701 - val_metrics_f1: 0.5072\n",
            "Epoch 27/30\n",
            "91/91 [==============================] - 5s 58ms/step - loss: 0.2054 - accuracy: 0.9439 - metrics_recall: 0.9120 - metrics_precision: 0.9244 - metrics_f1: 0.9147 - val_loss: 0.7935 - val_accuracy: 0.6929 - val_metrics_recall: 0.6123 - val_metrics_precision: 0.5245 - val_metrics_f1: 0.5544\n",
            "Epoch 28/30\n",
            "91/91 [==============================] - 5s 58ms/step - loss: 0.2272 - accuracy: 0.9428 - metrics_recall: 0.9056 - metrics_precision: 0.9291 - metrics_f1: 0.9141 - val_loss: 0.9043 - val_accuracy: 0.7007 - val_metrics_recall: 0.5770 - val_metrics_precision: 0.5364 - val_metrics_f1: 0.5428\n",
            "Epoch 29/30\n",
            "91/91 [==============================] - 5s 58ms/step - loss: 0.2006 - accuracy: 0.9487 - metrics_recall: 0.9316 - metrics_precision: 0.9247 - metrics_f1: 0.9252 - val_loss: 0.8977 - val_accuracy: 0.7007 - val_metrics_recall: 0.5463 - val_metrics_precision: 0.5347 - val_metrics_f1: 0.5267\n",
            "Epoch 30/30\n",
            "91/91 [==============================] - 5s 58ms/step - loss: 0.2191 - accuracy: 0.9367 - metrics_recall: 0.8974 - metrics_precision: 0.9159 - metrics_f1: 0.9003 - val_loss: 0.9257 - val_accuracy: 0.6874 - val_metrics_recall: 0.5560 - val_metrics_precision: 0.5181 - val_metrics_f1: 0.5229\n"
          ],
          "name": "stdout"
        },
        {
          "output_type": "execute_result",
          "data": {
            "text/plain": [
              "<tensorflow.python.keras.callbacks.History at 0x7f7567dce2d0>"
            ]
          },
          "metadata": {
            "tags": []
          },
          "execution_count": 22
        }
      ]
    },
    {
      "cell_type": "code",
      "metadata": {
        "id": "mOgPSige2PSk"
      },
      "source": [
        "#%tensorboard --logdir {logs_base_dir}"
      ],
      "execution_count": 23,
      "outputs": []
    },
    {
      "cell_type": "code",
      "metadata": {
        "id": "gATYCGKxZUrH"
      },
      "source": [
        "#from tensorboard import notebook\n",
        "#notebook.list()"
      ],
      "execution_count": 24,
      "outputs": []
    },
    {
      "cell_type": "code",
      "metadata": {
        "id": "RRzyrHJ5ZYPZ"
      },
      "source": [
        "#notebook.display(port=6006, height=1000) \n"
      ],
      "execution_count": 25,
      "outputs": []
    },
    {
      "cell_type": "code",
      "metadata": {
        "id": "tTGNmRTIYEhq"
      },
      "source": [
        "#!pip install tensorboardcolab\n",
        "#from tensorboardcolab import TensorBoardColab, TensorBoardColabCallback\n",
        "\n",
        "#tbc=TensorBoardColab()"
      ],
      "execution_count": 26,
      "outputs": []
    },
    {
      "cell_type": "code",
      "metadata": {
        "id": "Iaakc1HMuHOI",
        "colab": {
          "base_uri": "https://localhost:8080/"
        },
        "outputId": "7dd1184e-1d0e-45a7-bd6e-f601719c26e5"
      },
      "source": [
        "(loss,accuracy, metrics_recall, metrics_precision,\n",
        "metrics_f1) = LSTM16052109.evaluate(nppadded_testing, nptesting_labels, verbose=1)"
      ],
      "execution_count": 27,
      "outputs": [
        {
          "output_type": "stream",
          "text": [
            "111/111 [==============================] - 1s 13ms/step - loss: 1.0004 - accuracy: 0.6719 - metrics_recall: 0.4824 - metrics_precision: 0.5242 - metrics_f1: 0.4872\n"
          ],
          "name": "stdout"
        }
      ]
    },
    {
      "cell_type": "code",
      "metadata": {
        "id": "nzjc-rMEuL16"
      },
      "source": [
        "LSTM_predict09 = LSTM16052109.predict(x=nppadded_testing)"
      ],
      "execution_count": 28,
      "outputs": []
    },
    {
      "cell_type": "code",
      "metadata": {
        "id": "Qd_WGzTuMuYX"
      },
      "source": [
        "#for p in LSTM_predict09:\n",
        " # print(p)"
      ],
      "execution_count": 29,
      "outputs": []
    },
    {
      "cell_type": "code",
      "metadata": {
        "id": "PluuAMv2MxlW"
      },
      "source": [
        "prediction_rounded08 = np.round(LSTM_predict09)\n",
        "\n",
        "#for p in prediction_rounded08:\n",
        " # print(p)\n",
        "\n",
        "\n",
        "#print(nptesting_labels[200:210])"
      ],
      "execution_count": 30,
      "outputs": []
    },
    {
      "cell_type": "code",
      "metadata": {
        "id": "tTlZpSlfZRGt"
      },
      "source": [
        "#print(testing_labels[10:16])\n",
        "#print(statementsForTesting[4:7])"
      ],
      "execution_count": 31,
      "outputs": []
    },
    {
      "cell_type": "markdown",
      "metadata": {
        "id": "rfW_WcDlWsZv"
      },
      "source": [
        "https://deeplizard.com/learn/video/km7pxKy4UHU\n",
        "\n",
        "Quelle der def plot_confusion_matrix: https://scikit-learn.org/stable/auto_examples/model_selection/plot_confusion_matrix.html#sphx-glr-auto-examples-model-selection-plot-confusion-matrix-py "
      ]
    },
    {
      "cell_type": "code",
      "metadata": {
        "id": "TZjt-y0-WrPZ"
      },
      "source": [
        "from sklearn.metrics import confusion_matrix\n",
        "import itertools\n",
        "import matplotlib.pyplot as plt"
      ],
      "execution_count": 32,
      "outputs": []
    },
    {
      "cell_type": "code",
      "metadata": {
        "id": "A5RUaFEcXmYc"
      },
      "source": [
        "def plot_confusion_matrix(cm, classes,\n",
        "                        normalize=False,\n",
        "                        title='Confusion matrix',\n",
        "                        cmap=plt.cm.Blues):\n",
        "    \"\"\"\n",
        "    This function prints and plots the confusion matrix.\n",
        "    Normalization can be applied by setting `normalize=True`.\n",
        "    \"\"\"\n",
        "    plt.imshow(cm, interpolation='nearest', cmap=cmap)\n",
        "    plt.title(title)\n",
        "    plt.colorbar()\n",
        "    tick_marks = np.arange(len(classes))\n",
        "    plt.xticks(tick_marks, classes, rotation=45)\n",
        "    plt.yticks(tick_marks, classes)\n",
        "\n",
        "    if normalize:\n",
        "        cm = cm.astype('float') / cm.sum(axis=1)[:, np.newaxis]\n",
        "        print(\"Normalized confusion matrix\")\n",
        "    else:\n",
        "        print('Confusion matrix, without normalization')\n",
        "\n",
        "    print(cm)\n",
        "\n",
        "    thresh = cm.max() / 2.\n",
        "    for i, j in itertools.product(range(cm.shape[0]), range(cm.shape[1])):\n",
        "        plt.text(j, i, cm[i, j],\n",
        "            horizontalalignment=\"center\",\n",
        "            color=\"white\" if cm[i, j] > thresh else \"black\")\n",
        "\n",
        "    plt.tight_layout()\n",
        "    plt.ylabel('True label')\n",
        "    plt.xlabel('Predicted label')"
      ],
      "execution_count": 33,
      "outputs": []
    },
    {
      "cell_type": "code",
      "metadata": {
        "id": "4Mu7wle3Wr5S"
      },
      "source": [
        "cm = confusion_matrix(y_true=nptesting_labels, y_pred=prediction_rounded08)"
      ],
      "execution_count": 34,
      "outputs": []
    },
    {
      "cell_type": "code",
      "metadata": {
        "id": "QcIt6FU7Wr_q"
      },
      "source": [
        "plot_labels = ['no hatespeech','hatespeech']"
      ],
      "execution_count": 35,
      "outputs": []
    },
    {
      "cell_type": "code",
      "metadata": {
        "id": "X-K7cFJfWsGV",
        "colab": {
          "base_uri": "https://localhost:8080/",
          "height": 362
        },
        "outputId": "8ef2c062-85e9-4d60-de8e-6ff4693a6e7b"
      },
      "source": [
        "plot_confusion_matrix(cm=cm, classes=plot_labels, title='LSTM Confusion 15')"
      ],
      "execution_count": 36,
      "outputs": [
        {
          "output_type": "stream",
          "text": [
            "Confusion matrix, without normalization\n",
            "[[1804  526]\n",
            " [ 633  569]]\n"
          ],
          "name": "stdout"
        },
        {
          "output_type": "display_data",
          "data": {
            "image/png": "[encoded data removed]",
            "text/plain": [
              "<Figure size 432x288 with 2 Axes>"
            ]
          },
          "metadata": {
            "tags": [],
            "needs_background": "light"
          }
        }
      ]
    }
  ]
}